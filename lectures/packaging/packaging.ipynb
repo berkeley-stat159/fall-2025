{
 "cells": [
  {
   "cell_type": "markdown",
   "id": "ebfbab12-116f-4ce5-beee-2a95868b7cc2",
   "metadata": {},
   "source": [
    "# An Introduction to Python Packaging\n",
    "\n",
    "## Basic concepts: files, scripts and modules\n",
    "\n",
    "In our previous lecture about modularization, we already discussed the concept of modules and how to import them. A package is a collection of modules that we can now import together and document separately, and it builds on those previous concepts.\n",
    "\n",
    "To recap: A Python file, `file.py` is any file whose syntax is valid Python. Its contents can be executed in several different ways:\n",
    "\n",
    "Direct execution\n",
    ": We can call at the command line `python file.py` (or equivalently `./file.py` if the file is executable and has its \"shebang\" set to `#!/usr/bin/env python` or similar).  In this scenario, the file is being **executed** and the Python interpreter runs over the entire content of the file, redirecting `print()` calls to standard output/error.\n",
    "\n",
    ": In this case, the Python interpreter sets a the variable `__name__` to the string `\"__main__\"`.\n",
    "\n",
    "Importing\n",
    ": If a Python process runs the statement `import file`, and `file.py` is found either in the current directory or in the paths specified in the environment variable `$PYTHONPATH`, then its contents are also executed, but with the the variable `__name__` to the string `\"file\"` (whatever the name of the file happens to be, minus the extension).\n",
    "\n",
    "This simple trick of setting this global variable `__name__` to two different values depending on how the script is executed allows for a simple and elegant way to combine \"executable script\" and \"reusable module\" into a single Python file. In other programming languages, the distinction between building a \"program\" and a \"library\" requires more complex tooling.\n",
    "\n",
    "Let's see a quick illustration by making a Python file:"
   ]
  },
  {
   "cell_type": "code",
   "execution_count": 21,
   "id": "e42abaa7-b638-4c76-b856-e02fb1fa08b6",
   "metadata": {},
   "outputs": [
    {
     "name": "stdout",
     "output_type": "stream",
     "text": [
      "Overwriting simple_name.py\n"
     ]
    }
   ],
   "source": [
    "%%writefile simple_name.py\n",
    "\n",
    "print(f\"In this file, {__name__=}\")\n",
    "print(\"This part is always run, regardless of how the file gets called.\")\n",
    "\n",
    "def f():\n",
    "    print(\"f() says hello!\")\n",
    "\n",
    "if __name__ == \"__main__\":\n",
    "    print(\"   *** The 'main script' part of this file is here! ***\")"
   ]
  },
  {
   "cell_type": "markdown",
   "id": "c23c53a9-714e-4f9c-b726-e378ddbd6d69",
   "metadata": {},
   "source": [
    "And first, calling it via the \"direct execution\" method:"
   ]
  },
  {
   "cell_type": "code",
   "execution_count": 22,
   "id": "586cc99a-5017-4ff0-b487-3d7d4688afb2",
   "metadata": {},
   "outputs": [
    {
     "name": "stdout",
     "output_type": "stream",
     "text": [
      "In this file, __name__='__main__'\n",
      "This part is always run, regardless of how the file gets called.\n",
      "   *** The 'main script' part of this file is here! ***\n"
     ]
    }
   ],
   "source": [
    "!python simple_name.py"
   ]
  },
  {
   "cell_type": "markdown",
   "id": "aee55456-fd83-4358-b8ce-aa1e5cb5f18a",
   "metadata": {},
   "source": [
    "And we can compare that to what happens when we import the code (instead of importing it from another Python file, we can execute a single statement at the command line with the `-c` flag):"
   ]
  },
  {
   "cell_type": "code",
   "execution_count": 23,
   "id": "bfb91807-81a0-463c-955f-36341b63642c",
   "metadata": {},
   "outputs": [
    {
     "name": "stdout",
     "output_type": "stream",
     "text": [
      "In this file, __name__='simple_name'\n",
      "This part is always run, regardless of how the file gets called.\n",
      "f() says hello!\n"
     ]
    }
   ],
   "source": [
    "!python -c \"import simple_name;simple_name.f()\""
   ]
  },
  {
   "cell_type": "markdown",
   "id": "0f37c774-85c9-4e8a-b518-819cd94727fb",
   "metadata": {},
   "source": [
    "With this simple example, we see how we can have in a given folder, python files that can serve both the role of working as scripts and as modules that expose functions for other scripts."
   ]
  },
  {
   "cell_type": "markdown",
   "id": "18ba2360-330d-4510-8652-10edc2909ca7",
   "metadata": {},
   "source": [
    "### Reminder: `%run` in IPython\n",
    "\n",
    "The above are the mechanisms that plain Python exposes. As we have mentioned before, IPython offers in the `%run` magic the ability to run scripts, and in fact provides control over the value of `__name__` to provide convenience for several use cases. \n",
    "\n",
    "Observe the difference between the following ways of using `%run` with our `simple_file.py`:"
   ]
  },
  {
   "cell_type": "code",
   "execution_count": 24,
   "id": "6d5fdd7e-03b9-43aa-b82a-e941ae7ab105",
   "metadata": {},
   "outputs": [
    {
     "name": "stdout",
     "output_type": "stream",
     "text": [
      "In this file, __name__='__main__'\n",
      "This part is always run, regardless of how the file gets called.\n",
      "   *** The 'main script' part of this file is here! ***\n"
     ]
    }
   ],
   "source": [
    "%run simple_name"
   ]
  },
  {
   "cell_type": "code",
   "execution_count": 25,
   "id": "c17d06b8-7a61-4a8f-a8f7-0d173ea0fccd",
   "metadata": {},
   "outputs": [
    {
     "name": "stdout",
     "output_type": "stream",
     "text": [
      "In this file, __name__='simple_name'\n",
      "This part is always run, regardless of how the file gets called.\n"
     ]
    }
   ],
   "source": [
    "%run -n simple_name"
   ]
  },
  {
   "cell_type": "markdown",
   "id": "cfaaaf8b-f989-4f24-8644-4b2d14d590ff",
   "metadata": {},
   "source": [
    "In both cases, we now have access to `f()`, as `%run` loads all variables defined in the script into our kernel's namespace:"
   ]
  },
  {
   "cell_type": "code",
   "execution_count": 26,
   "id": "df569c8f-edf4-4798-a2b3-b7d542562dae",
   "metadata": {},
   "outputs": [
    {
     "name": "stdout",
     "output_type": "stream",
     "text": [
      "f() says hello!\n"
     ]
    }
   ],
   "source": [
    "f()"
   ]
  },
  {
   "cell_type": "markdown",
   "id": "6e1fad25-5f9f-489d-850b-a9a5db8779f2",
   "metadata": {},
   "source": [
    "## The absolute minimal package\n",
    "\n",
    "In Python, just like a simple `file.py` is enough to have a module you can import, the absolute bare minimum you need for a package is a folder that has a (can be empty!) file called `__init__.py` in it. Then, other files Python in that folder can be imported, and the folder is your package!\n",
    "\n",
    "Let's make one of these:"
   ]
  },
  {
   "cell_type": "code",
   "execution_count": 44,
   "id": "cd0dbd18-78b8-41b7-b021-eb53e7772636",
   "metadata": {},
   "outputs": [],
   "source": [
    "%%bash\n",
    "rm -rf minipak\n",
    "mkdir -p minipak\n",
    "touch minipak/__init__.py"
   ]
  },
  {
   "cell_type": "code",
   "execution_count": 45,
   "id": "1f1802a1-f92d-4680-8538-764f7f1c83d9",
   "metadata": {},
   "outputs": [
    {
     "name": "stdout",
     "output_type": "stream",
     "text": [
      "Writing minipak/funcs.py\n"
     ]
    }
   ],
   "source": [
    "%%writefile minipak/funcs.py\n",
    "def add(a, b):\n",
    "    return a+b"
   ]
  },
  {
   "cell_type": "markdown",
   "id": "c4dbc0cd-c1e8-4d6b-961c-3bf993ef9449",
   "metadata": {},
   "source": [
    "We can see the folder `minipak` has only two files, one which is empty:"
   ]
  },
  {
   "cell_type": "code",
   "execution_count": 40,
   "id": "6e81eb70-d08a-4365-ba01-1334926110ed",
   "metadata": {},
   "outputs": [
    {
     "name": "stdout",
     "output_type": "stream",
     "text": [
      "total 4\n",
      "-rw-r--r-- 1 jovyan jovyan 30 Oct 15 05:59 funcs.py\n",
      "-rw-r--r-- 1 jovyan jovyan  0 Oct 15 05:59 __init__.py\n"
     ]
    }
   ],
   "source": [
    "!ls -l minipak"
   ]
  },
  {
   "cell_type": "markdown",
   "id": "da5f41af-d297-4088-860f-3a7279f631b3",
   "metadata": {},
   "source": [
    "But we can still import its `funcs` module, and call functions in it!"
   ]
  },
  {
   "cell_type": "code",
   "execution_count": 46,
   "id": "a8ecfa86-a425-49b4-91ae-1d958dbbc567",
   "metadata": {},
   "outputs": [
    {
     "data": {
      "text/plain": [
       "5"
      ]
     },
     "execution_count": 46,
     "metadata": {},
     "output_type": "execute_result"
    }
   ],
   "source": [
    "from minipak import funcs\n",
    "funcs.add(2, 3)"
   ]
  },
  {
   "cell_type": "markdown",
   "id": "9974dfb7-8650-402a-97b5-5ea39439b0cd",
   "metadata": {},
   "source": [
    "## Learning with a small but more realistic package: `mytoy`\n",
    "\n",
    "Now, we are going to transition from single modules that are mostly used locally (that is, defined in a single file next to the scripts that need them), to learning how to build a complete, modern Python package that can contain multiple modules, can be installed, tested, etc.  While the above example of sticking a couple of scripts in a folder and adding an empty `__init__.py` file works for the simplest of cases, and is a good starting point, we're now going to put a bit more structure. With just a few more things in place, we have enough scaffolding to go from simple but real-world cases, to arbitrarily large and complex packages of the size of xarray or pandas.\n",
    "\n",
    "In this course, we will stop short of _publishing_ the package, but that's an easy step you can take later when you have a real package you wish to make available to others. The one we will use today is just a toy to illustrate the various moving parts.\n",
    "\n",
    "We will work with the following minimal Python package, [mytoy](https://github.com/fperez/mytoy). You can clone this repository with:\n",
    "\n",
    "```bash\n",
    "git clone https://github.com/fperez/mytoy.git\n",
    "```\n",
    "\n",
    "This repository contains a minimal, toy Python package with a few files as illustration for students of how to lay out their code to meet minimal Python packaging requirements.\n",
    "\n",
    "It has a single source directory (`mytoy`) with an `__init__.py` file and one \"implementation\" file (`toys.py`) as well as a few tests in `mytoy/tests`.\n",
    "\n",
    "In addition to this `README.md` it includes some basic infrastructure: `LICENSE`, `pyproject.toml` and `.gitignore` files, as well as a `binder` folder that contains the necessary files for the above Binder link to work.\n",
    "\n",
    "The only docs included are this `README.md` file - a larger package would have a proper docs directory and associated Sphinx/JupyterBook build.\n",
    "\n",
    "This is more or less the absolute minimum for a \"real\" python package that can be installed from source, tested and experimented with on Binder.  For a more \"official\" version of this same idea, see the [PyPA sample project repo](https://github.com/pypa/sampleproject), documented in detail in the [Packaging Tutorial](https://packaging.python.org/en/latest/tutorials/packaging-projects). The [Python Packaging User Guide](https://packaging.python.org) contains comprehensive documentation on this topic.\n",
    "\n",
    "Let's now disentangled some of the contents in `mytoy`. Let's begin with some simple example.  "
   ]
  },
  {
   "cell_type": "markdown",
   "id": "271bf31e-f80a-4b2d-8545-c39e62f5b55c",
   "metadata": {},
   "source": [
    "### Import a package"
   ]
  },
  {
   "cell_type": "markdown",
   "id": "b8f2d505-746f-4264-a285-6003fc8a6655",
   "metadata": {
    "user_expressions": []
   },
   "source": [
    "Let's begin by creating a simple analysis notebook `Analysis.ipynb`. Inside the notebook we make an import of a new package called `mytoy` with the syntax:\n",
    "```python\n",
    "import mytoy\n",
    "```\n",
    "where in the same folder we have a folder called my toy with the following contents. You folder should like something like this:"
   ]
  },
  {
   "cell_type": "raw",
   "id": "d8171f03-2371-43a0-a0d0-eb7103044207",
   "metadata": {},
   "source": [
    "Analysis.ipynb\n",
    "mytoy\n",
    "|- __init__.py\n",
    "|- toys.py"
   ]
  },
  {
   "cell_type": "markdown",
   "id": "54f5ff61-207c-403d-bda2-2e0aa4d80324",
   "metadata": {
    "user_expressions": []
   },
   "source": [
    "The actual Python code is contained in the `.py` files, where we include some basic functions, classes and other objects we want to import. In order to the import to work, we need to create the index file `__init__.py` with the following contents:\n",
    "```\n",
    "\"\"\"\n",
    "My Toy package\n",
    "\"\"\"\n",
    "\n",
    "__version__ = \"0.0.1\"\n",
    "\n",
    "from .toys import *\n",
    "```\n",
    "The first part of the script is the docstring we already discussed in the lecture about documentation. The `__version__` variable follows the convention of specifying the version number with a sequence of three digits, labeled as major, minor and patch (more information about the convention of these three digits in the [Semantic Version documentation](https://semver.org)).\n",
    "\n",
    "````{note}\n",
    "In the case of being constantly making changes to your package code, you can include the `autoreload` command so the changes in the package are updated in the notebook without the need of restarting the kernel\n",
    "```python\n",
    "%load_ext autoreload\n",
    "%autoreload 2\n",
    "```\n",
    "````"
   ]
  },
  {
   "cell_type": "markdown",
   "id": "6b10f772-76e1-4918-b164-4b16503539fd",
   "metadata": {
    "user_expressions": []
   },
   "source": [
    "### 2. Making a package installable\n",
    "\n",
    "Now, in order to import `mytoy` we need to be in the folder where `mytoy` lives. However, we want `mytoy` to be available everywhere where Python is available, in the same way we can import `numpy` and `matplotlib` from every notebook and Python session. \n",
    "\n",
    "In order to make a package installable, we need to include a file inside `mytoy` named `pyproject.toml`.\n",
    "\n",
    "For the first two files, you can use the same ones that are available inside [mytoy](https://github.com/fperez/mytoy) without the need of making any change on them. The file `setup.cfg` needs to be customizable based on the specifics of the package. This is an example of how the `setup.cfg` file in `mytoy` looks like:\n",
    "\n",
    "```\n",
    "```\n",
    "\n",
    "Notice that to your package you can also include a `LICENCE` file. \n",
    "\n",
    "```{note}\n",
    "The license is what specifies the condition under which you code can or cannot be used by someone else. Just by putting code in GitHub doesn't imply that code is open source. That extra step requires you to specify the type of license. Notice that when you create a new repository in GitHub, one of the available options is to create the repository with a given license. Some examples of popular licenses are \n",
    "\n",
    "- `BSD` (Berkeley Software Distribution) / `MIT` or \"permissive\" licenses.\n",
    "- `LGPL` (GNU Lesser General Public License) or \"weak copy-left\" licenses.\n",
    "- `GPL` (GNU Public License) or \"strong copy-left\" licenses.\n",
    "\n",
    "The majority of the Scientific Python ecosystem uses the BSD license; you can read [here](https://nipy.org/nipy/faq/johns_bsd_pitch.html) a post written a long time ago by the creator of Matplotlib, John Hunter, that had a huge influence in alignign this ecosystem around a single, common license. I (Fernando) had originally licensed [IPython 0.0.1](https://gist.github.com/fperez/1579699) as GPL, which then evolved into an LGPL license for other early versions; it was John who convinced me, with this clear reasoning, of the value of aligning with the rest of the ecosystem on the \"permissive\" Berkeley license (I wasn't at Berkeley at the time :).\n",
    "\n",
    "Here you can find the [official recommendation of UCB](https://cio.ucop.edu/a-guide-for-licensing-open-source-software/) regarding which license to use. \n",
    "```"
   ]
  },
  {
   "cell_type": "markdown",
   "id": "aa9ddfa6-9d73-487a-8f29-db025228ff42",
   "metadata": {
    "user_expressions": []
   },
   "source": [
    "Once these files are present in your package folder, you can install the Python package using `pip`. From the folder where `mytoy` lives and you have the configuration files, you can run from a terminal \n",
    "```bash\n",
    "pip install .\n",
    "```\n",
    "and this will install `mytoy`. After you complete the installation, you can import `mytoy` from any Python session (for example, now you can open python from a terminal and make a `import mytoy` from there). \n",
    "\n",
    "````{note}\n",
    "You can also install in development mode with the editable flag \n",
    "```\n",
    "pip install -e .\n",
    "```\n",
    "This is useful when we are making changes in the package as we make progress. If we don't do this, every time we make a change in the library we need to uninstall and install again in order to those changes to be reflected. \n",
    "````"
   ]
  },
  {
   "cell_type": "markdown",
   "id": "c107425a-95f0-4ad8-8935-3b1e1b6aacba",
   "metadata": {
    "user_expressions": []
   },
   "source": [
    "### 3. Running tests\n",
    "\n",
    "As we mentioned in previous lectures, a very important element of writing code is having easy way of testing it. Just as we did using `pytest`, we can automatically run the tests included inside a Python package. After you had installed `mytoy`, you can run all the tests located inside the folder `tests` by running\n",
    "```bash\n",
    "pytest mytoy\n",
    "```\n",
    "Notice that you can run this command from any directory in your system."
   ]
  },
  {
   "cell_type": "markdown",
   "id": "225b4d07-d7f1-468b-a12d-11a46d1d3920",
   "metadata": {
    "user_expressions": []
   },
   "source": [
    "### 4. Publishing our package \n",
    "\n",
    "You can eventually publish your code in the [Python Package Index](pypi.org). We are not going to do that here, but from the structure of `mytoy` it's easy to make a package available for other users to install using some package management system. "
   ]
  }
 ],
 "metadata": {
  "kernelspec": {
   "display_name": "Python 3 (ipykernel)",
   "language": "python",
   "name": "python3"
  },
  "language_info": {
   "codemirror_mode": {
    "name": "ipython",
    "version": 3
   },
   "file_extension": ".py",
   "mimetype": "text/x-python",
   "name": "python",
   "nbconvert_exporter": "python",
   "pygments_lexer": "ipython3",
   "version": "3.12.0"
  }
 },
 "nbformat": 4,
 "nbformat_minor": 5
}
