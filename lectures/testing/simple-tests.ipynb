{
 "cells": [
  {
   "cell_type": "markdown",
   "id": "7bf11905-8c91-4778-82d2-13c527f8230c",
   "metadata": {},
   "source": [
    "# Testing in notebooks\n",
    "\n",
    "Some useful references:\n",
    "\n",
    "- [Using Pytest in Jupyter](https://medium.com/@mefengl/using-pytest-in-jupyter-notebooks-a-practical-guide-1ba8e02af288)\n",
    "- [The ipytest module](https://github.com/chmp/ipytest)\n",
    "\n",
    "The `ipytest` module lets us run tests _inside_ a notebook, which enables the gradual evolution of code from living in a notebook during interactive exploration, and then being moved to modules and packages as we modularize and abstract reusable parts, all while remaining tested.\n",
    "\n",
    "In a notebook that we want to run tests for, we start by importing and configuring `ipytest` (the docs have more details on the various options):"
   ]
  },
  {
   "cell_type": "code",
   "execution_count": 8,
   "id": "7e01982e-ee77-4b92-a67a-14644a209418",
   "metadata": {},
   "outputs": [],
   "source": [
    "import ipytest\n",
    "ipytest.autoconfig()"
   ]
  },
  {
   "cell_type": "markdown",
   "id": "75652e6d-99cc-42bf-9679-151beca812cf",
   "metadata": {},
   "source": [
    "If we have a collection of tests in a single cell, we can use the `%%ipytest` cell magic, provided by the package. Note that flag to ignore an annoying `DeprecationWarning`, it kicks in only the 2nd time we run the cell but helps keep the visual noise down."
   ]
  },
  {
   "cell_type": "code",
   "execution_count": 11,
   "id": "bff997e3-a44c-43b5-9d51-98ffcc301a45",
   "metadata": {},
   "outputs": [
    {
     "name": "stdout",
     "output_type": "stream",
     "text": [
      "\u001b[32m.\u001b[0m\u001b[31mF\u001b[0m\u001b[33ms\u001b[0m\u001b[31m                                                                                          [100%]\u001b[0m\n",
      "============================================= FAILURES =============================================\n",
      "\u001b[31m\u001b[1m___________________________________________ test_problem ___________________________________________\u001b[0m\n",
      "\n",
      "    \u001b[0m\u001b[94mdef\u001b[39;49;00m\u001b[90m \u001b[39;49;00m\u001b[92mtest_problem\u001b[39;49;00m():\u001b[90m\u001b[39;49;00m\n",
      ">       \u001b[94massert\u001b[39;49;00m \u001b[94m1\u001b[39;49;00m + \u001b[94m1\u001b[39;49;00m == \u001b[94m3\u001b[39;49;00m\u001b[90m\u001b[39;49;00m\n",
      "\u001b[1m\u001b[31mE       assert (1 + 1) == 3\u001b[0m\n",
      "\n",
      "\u001b[1m\u001b[31m/var/folders/j1/n8kn9ftd7257n2rvkkzlj3mc0010dw/T/ipykernel_39407/3734627355.py\u001b[0m:7: AssertionError\n",
      "\u001b[36m\u001b[1m===================================== short test summary info ======================================\u001b[0m\n",
      "\u001b[31mFAILED\u001b[0m t_de6dfc9099544e969c1912f0c3674ff3.py::\u001b[1mtest_problem\u001b[0m - assert (1 + 1) == 3\n"
     ]
    }
   ],
   "source": [
    "%%ipytest -qq -W ignore::DeprecationWarning\n",
    "\n",
    "# This test will pass\n",
    "def test_addition():\n",
    "    assert 1 + 1 == 2\n",
    "\n",
    "# This one will fail\n",
    "def test_problem():\n",
    "    assert 1 + 1 == 3\n",
    "\n",
    "# And we may want to have a test we don't run for now...\n",
    "import pytest\n",
    "@pytest.mark.skip(reason=\"no way of currently testing this\")\n",
    "def test_mystery():\n",
    "    pass"
   ]
  },
  {
   "cell_type": "markdown",
   "id": "8118c506-94d4-4195-beac-70b3650d2dc5",
   "metadata": {},
   "source": [
    "The beauty of `ipytest` is that it can find tests defined _anywhere_ in the notebook and run them:"
   ]
  },
  {
   "cell_type": "code",
   "execution_count": 12,
   "id": "08efe5dc-920b-4ee8-866a-548590667796",
   "metadata": {},
   "outputs": [
    {
     "name": "stdout",
     "output_type": "stream",
     "text": [
      "\u001b[32m.\u001b[0m\u001b[31mF\u001b[0m\u001b[33ms\u001b[0m\u001b[31m                                                                                          [100%]\u001b[0m\n",
      "============================================= FAILURES =============================================\n",
      "\u001b[31m\u001b[1m___________________________________________ test_problem ___________________________________________\u001b[0m\n",
      "\n",
      "    \u001b[0m\u001b[94mdef\u001b[39;49;00m\u001b[90m \u001b[39;49;00m\u001b[92mtest_problem\u001b[39;49;00m():\u001b[90m\u001b[39;49;00m\n",
      ">       \u001b[94massert\u001b[39;49;00m \u001b[94m1\u001b[39;49;00m + \u001b[94m1\u001b[39;49;00m == \u001b[94m3\u001b[39;49;00m\u001b[90m\u001b[39;49;00m\n",
      "\u001b[1m\u001b[31mE       assert (1 + 1) == 3\u001b[0m\n",
      "\n",
      "\u001b[1m\u001b[31m/var/folders/j1/n8kn9ftd7257n2rvkkzlj3mc0010dw/T/ipykernel_39407/3734627355.py\u001b[0m:7: AssertionError\n",
      "\u001b[36m\u001b[1m===================================== short test summary info ======================================\u001b[0m\n",
      "\u001b[31mFAILED\u001b[0m t_de6dfc9099544e969c1912f0c3674ff3.py::\u001b[1mtest_problem\u001b[0m - assert (1 + 1) == 3\n",
      "\u001b[31m\u001b[31m\u001b[1m1 failed\u001b[0m, \u001b[32m1 passed\u001b[0m, \u001b[33m1 skipped\u001b[0m\u001b[31m in 0.01s\u001b[0m\u001b[0m\n"
     ]
    },
    {
     "data": {
      "text/plain": [
       "<ExitCode.TESTS_FAILED: 1>"
      ]
     },
     "execution_count": 12,
     "metadata": {},
     "output_type": "execute_result"
    }
   ],
   "source": [
    "ipytest.run('-W ignore::DeprecationWarning')"
   ]
  },
  {
   "cell_type": "markdown",
   "id": "db102279-2d23-4894-adbd-88f4dbea8469",
   "metadata": {},
   "source": [
    ":::{note}\n",
    "Strictly speaking, `ipytest` finds tests _in the kernel's namespace_, not in the notebook file. This means that if you restert the kernel, you need to re-run the cells defining tests for them to be found. \n",
    ":::\n",
    "\n",
    "If we define more tests now:"
   ]
  },
  {
   "cell_type": "code",
   "execution_count": 13,
   "id": "50a5c4d7-edab-4b38-9dc4-f072f729066a",
   "metadata": {},
   "outputs": [],
   "source": [
    "def test_bad():\n",
    "    assert 1 == 0\n",
    "\n",
    "def test_crash():\n",
    "    1/0"
   ]
  },
  {
   "cell_type": "markdown",
   "id": "9a0e9424-532d-437f-a970-d9bf45f46689",
   "metadata": {},
   "source": [
    "They will also be found:"
   ]
  },
  {
   "cell_type": "code",
   "execution_count": 14,
   "id": "c013a793-6127-4e1a-88f3-4f5f829c15aa",
   "metadata": {},
   "outputs": [
    {
     "name": "stdout",
     "output_type": "stream",
     "text": [
      "\u001b[32m.\u001b[0m\u001b[31mF\u001b[0m\u001b[33ms\u001b[0m\u001b[31mF\u001b[0m\u001b[31mF\u001b[0m\u001b[31m                                                                                        [100%]\u001b[0m\n",
      "============================================= FAILURES =============================================\n",
      "\u001b[31m\u001b[1m___________________________________________ test_problem ___________________________________________\u001b[0m\n",
      "\n",
      "    \u001b[0m\u001b[94mdef\u001b[39;49;00m\u001b[90m \u001b[39;49;00m\u001b[92mtest_problem\u001b[39;49;00m():\u001b[90m\u001b[39;49;00m\n",
      ">       \u001b[94massert\u001b[39;49;00m \u001b[94m1\u001b[39;49;00m + \u001b[94m1\u001b[39;49;00m == \u001b[94m3\u001b[39;49;00m\u001b[90m\u001b[39;49;00m\n",
      "\u001b[1m\u001b[31mE       assert (1 + 1) == 3\u001b[0m\n",
      "\n",
      "\u001b[1m\u001b[31m/var/folders/j1/n8kn9ftd7257n2rvkkzlj3mc0010dw/T/ipykernel_39407/3734627355.py\u001b[0m:7: AssertionError\n",
      "\u001b[31m\u001b[1m_____________________________________________ test_bad _____________________________________________\u001b[0m\n",
      "\n",
      "    \u001b[0m\u001b[94mdef\u001b[39;49;00m\u001b[90m \u001b[39;49;00m\u001b[92mtest_bad\u001b[39;49;00m():\u001b[90m\u001b[39;49;00m\n",
      ">       \u001b[94massert\u001b[39;49;00m \u001b[94m1\u001b[39;49;00m == \u001b[94m0\u001b[39;49;00m\u001b[90m\u001b[39;49;00m\n",
      "\u001b[1m\u001b[31mE       assert 1 == 0\u001b[0m\n",
      "\n",
      "\u001b[1m\u001b[31m/var/folders/j1/n8kn9ftd7257n2rvkkzlj3mc0010dw/T/ipykernel_39407/714497975.py\u001b[0m:2: AssertionError\n",
      "\u001b[31m\u001b[1m____________________________________________ test_crash ____________________________________________\u001b[0m\n",
      "\n",
      "    \u001b[0m\u001b[94mdef\u001b[39;49;00m\u001b[90m \u001b[39;49;00m\u001b[92mtest_crash\u001b[39;49;00m():\u001b[90m\u001b[39;49;00m\n",
      ">       \u001b[94m1\u001b[39;49;00m/\u001b[94m0\u001b[39;49;00m\u001b[90m\u001b[39;49;00m\n",
      "\u001b[1m\u001b[31mE       ZeroDivisionError: division by zero\u001b[0m\n",
      "\n",
      "\u001b[1m\u001b[31m/var/folders/j1/n8kn9ftd7257n2rvkkzlj3mc0010dw/T/ipykernel_39407/714497975.py\u001b[0m:5: ZeroDivisionError\n",
      "\u001b[36m\u001b[1m===================================== short test summary info ======================================\u001b[0m\n",
      "\u001b[31mFAILED\u001b[0m t_de6dfc9099544e969c1912f0c3674ff3.py::\u001b[1mtest_problem\u001b[0m - assert (1 + 1) == 3\n",
      "\u001b[31mFAILED\u001b[0m t_de6dfc9099544e969c1912f0c3674ff3.py::\u001b[1mtest_bad\u001b[0m - assert 1 == 0\n",
      "\u001b[31mFAILED\u001b[0m t_de6dfc9099544e969c1912f0c3674ff3.py::\u001b[1mtest_crash\u001b[0m - ZeroDivisionError: division by zero\n",
      "\u001b[31m\u001b[31m\u001b[1m3 failed\u001b[0m, \u001b[32m1 passed\u001b[0m, \u001b[33m1 skipped\u001b[0m\u001b[31m in 0.01s\u001b[0m\u001b[0m\n"
     ]
    },
    {
     "data": {
      "text/plain": [
       "<ExitCode.TESTS_FAILED: 1>"
      ]
     },
     "execution_count": 14,
     "metadata": {},
     "output_type": "execute_result"
    }
   ],
   "source": [
    "ipytest.run('-W ignore::DeprecationWarning')"
   ]
  }
 ],
 "metadata": {
  "kernelspec": {
   "display_name": "Python 3 (ipykernel)",
   "language": "python",
   "name": "python3"
  },
  "language_info": {
   "codemirror_mode": {
    "name": "ipython",
    "version": 3
   },
   "file_extension": ".py",
   "mimetype": "text/x-python",
   "name": "python",
   "nbconvert_exporter": "python",
   "pygments_lexer": "ipython3",
   "version": "3.13.7"
  }
 },
 "nbformat": 4,
 "nbformat_minor": 5
}
