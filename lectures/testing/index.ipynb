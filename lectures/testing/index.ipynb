{
 "cells": [
  {
   "cell_type": "markdown",
   "id": "33fd7300-794a-4d78-92d4-d61559f0f330",
   "metadata": {},
   "source": [
    "# Introduction to testing\n",
    "\n",
    "We will first investigate the building blocks of testing and different types of test. Later, we will see how to set an automatic workflow for testing that we can use in our everyday projects.\n",
    "\n",
    "- Illustration: [numerical surprises in basic arithmetic](simple-numerical-chaos.ipynb).\n",
    "- Basic [building blocks for testing code](building-blocks.ipynb).\n",
    "- Running [simple tests in a notebook](simple-tests.ipynb)."
   ]
  }
 ],
 "metadata": {
  "kernelspec": {
   "display_name": "Python 3 (ipykernel)",
   "language": "python",
   "name": "python3"
  },
  "language_info": {
   "codemirror_mode": {
    "name": "ipython",
    "version": 3
   },
   "file_extension": ".py",
   "mimetype": "text/x-python",
   "name": "python",
   "nbconvert_exporter": "python",
   "pygments_lexer": "ipython3",
   "version": "3.13.7"
  }
 },
 "nbformat": 4,
 "nbformat_minor": 5
}
