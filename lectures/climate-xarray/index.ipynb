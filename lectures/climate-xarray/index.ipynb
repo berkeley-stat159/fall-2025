{
 "cells": [
  {
   "cell_type": "markdown",
   "id": "63cd6b7d-d52f-4abd-8549-75680c268bd1",
   "metadata": {
    "user_expressions": []
   },
   "source": [
    "## Climate and Xarray"
   ]
  },
  {
   "cell_type": "markdown",
   "id": "a1a8403a-a4dd-43ad-b0a9-6824710a334f",
   "metadata": {},
   "source": [
    "Today we have the pleasure of having invited speaker [Chelle Gentemann](https://cgentemann.github.io) giving our invited lecture. \n",
    "\n",
    "Lecture materials:\n",
    "- [Slides](https://docs.google.com/presentation/d/1NGVsf35H_fsPartyKmFNwzZAkDJST_eUSj1FdRauvzU/edit?slide=id.g3881b673785_0_0#slide=id.g3881b673785_0_0).\n",
    "- Notebook 1: [Climate data](climate-data.ipynb).\n",
    "- Notebook 2: [Working with xarray](xarray.ipynb)."
   ]
  }
 ],
 "metadata": {
  "kernelspec": {
   "display_name": "Python 3 (ipykernel)",
   "language": "python",
   "name": "python3"
  },
  "language_info": {
   "codemirror_mode": {
    "name": "ipython",
    "version": 3
   },
   "file_extension": ".py",
   "mimetype": "text/x-python",
   "name": "python",
   "nbconvert_exporter": "python",
   "pygments_lexer": "ipython3",
   "version": "3.12.0"
  }
 },
 "nbformat": 4,
 "nbformat_minor": 5
}
