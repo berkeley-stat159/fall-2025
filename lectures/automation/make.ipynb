{
 "cells": [
  {
   "cell_type": "markdown",
   "id": "b8fa3074-07b4-4d1d-bffb-af40094491e5",
   "metadata": {},
   "source": [
    "# Automation and Make\n",
    "\n",
    "As we work in a project, we often encounter certain commands and operations that we end up running multiple times. Many of these operations regards the behaviour of certain programs and corresponds to programs that we execute from the terminal. For example, so far in this course we have dealt with:\n",
    "\n",
    "- File management: creation of files/folders. \n",
    "- Running code from Python scripts and Jupyter notebooks that perform certain analysis, reading data and generating outputs. \n",
    "- Creating virtual environment; activate them; install new packages; creating an IPython kernel.\n",
    "\n",
    "As our workflows grow, these operations become more complex and dependent of each other. This is where task automation tools come in. This is a vast space, with hundreds of tools that range from simple and general-purpose ones to highly specialized ones aimed at very specific types of workflow.\n",
    "\n",
    "But in general they all share a basic idea: **how to easily define a set of target tasks that may depend on each other, and a way to easily execute any of them in a reproducible way but avoiding repeating unnecessary work.**\n",
    "\n",
    "In this lecture, we're going to focus on the oldest (created in 1976!) and most basic such tool, called [Make](https://en.wikipedia.org/wiki/Make_(software)).  Make is simple and easy to use, and while it has been in many cases replaced by more modern and more sophisticated tools, it's useful to learn it as it exposes key concepts you'll see in every newer one, in a simple and direct way. "
   ]
  },
  {
   "cell_type": "markdown",
   "id": "164f99cb-e4e5-4d8f-8abe-a9807158eaa9",
   "metadata": {
    "user_expressions": []
   },
   "source": [
    "## 0. Setup\n",
    "\n",
    "As our toy example, we'll consider the problem of calculating a list of `nmax` prime numbers using an old algorithm called the [Sieve of Erathostenes](https://en.wikipedia.org/wiki/Sieve_of_Eratosthenes). We'll gradually move from hand-written code to running this automatically. You can find all the implementation details [here](https://github.com/UCB-stat-159-s23/facusapienza21-eratosthenes), but for this lecture we can work just off this notebook.\n",
    "\n",
    "Let's create a new Python script called `calculate_prime.py` with the following content:"
   ]
  },
  {
   "cell_type": "code",
   "execution_count": 5,
   "id": "44b264ba-b804-4a94-bcc6-17cebb7dad46",
   "metadata": {
    "user_expressions": []
   },
   "outputs": [
    {
     "name": "stdout",
     "output_type": "stream",
     "text": [
      "Overwriting calculate_primes.py\n"
     ]
    }
   ],
   "source": [
    "%%writefile calculate_primes.py\n",
    "\n",
    "import sys\n",
    "import math\n",
    "import numpy as np\n",
    "\n",
    "def sieve(nmax):\n",
    "    \"\"\"\n",
    "    Function to compute prime numbers. \n",
    "    \n",
    "    Arguments: \n",
    "        - nmax: integer. Upper bound for prime search.\n",
    "    Ourputs:\n",
    "        - all_primes: list. List with all the prime numbers slower than nmax\n",
    "    \n",
    "    \"\"\"\n",
    "\n",
    "    all_primes = []\n",
    "\n",
    "    if nmax == 2: \n",
    "        all_primes = [2]\n",
    "    else:\n",
    "        primes_head = [2]\n",
    "        first = 3\n",
    "        primes_tail = np.arange(first,nmax+1,2)\n",
    "        while first <= round(math.sqrt(primes_tail[-1])):\n",
    "            first = primes_tail[0]\n",
    "            primes_head.append(first)\n",
    "            non_primes = first * primes_tail\n",
    "            primes_tail = np.array([ n for n in primes_tail[1:]\n",
    "                                    if n not in non_primes ])\n",
    "\n",
    "    all_primes = primes_head + primes_tail.tolist()\n",
    "    \n",
    "    return all_primes\n",
    "\n",
    "if __name__ == '__main__':\n",
    "    n = int(sys.argv[1])\n",
    "    print(sieve(n))"
   ]
  },
  {
   "cell_type": "markdown",
   "id": "9a080c79-efbb-4951-846b-d325aa099840",
   "metadata": {},
   "source": [
    "The last part of `calculate_prime.py` includes the `__main__` header. This is what allow us to run and read arguments directly from the terminal. Now, from the terminal we can run `sieve()` with "
   ]
  },
  {
   "cell_type": "code",
   "execution_count": 4,
   "id": "54eb7792-4e8d-43f0-a903-976538fa67d0",
   "metadata": {},
   "outputs": [
    {
     "name": "stdout",
     "output_type": "stream",
     "text": [
      "[2, 3, 5, 7]\n"
     ]
    }
   ],
   "source": [
    "%%bash\n",
    "python calculate_primes.py 10"
   ]
  },
  {
   "cell_type": "markdown",
   "id": "328ba16e-52fc-4ccc-a653-cd84d2713c68",
   "metadata": {},
   "source": [
    "```{warning}\n",
    "Remember to check in which environment you are running this code! If you do this from the `base` environment this won't work, since `numpy` is not installed there. As we always emphasize, always check in which environment you are running code. \n",
    "```\n",
    "\n",
    "Now, let's move thing a little bit around. Instead of passing the argument variables by the terminal and then printing the outputs, let's create an `input.txt` and `output.txt` file that reads a list of arguments and save them in an output file. We can archive this by modifying the previous script to include \n",
    "\n",
    "```python\n",
    "if __name__ == '__main__':\n",
    "    input_file = sys.argv[1]\n",
    "    output_file = sys.argv[2]\n",
    "\n",
    "    # Read each line of the input file\n",
    "    with open(input_file) as file:\n",
    "        lines = file.read().splitlines()\n",
    "    results = [sieve(int(n))  for n in lines]\n",
    "    # Save values\n",
    "    with open(output_file, 'w') as output:\n",
    "        for i, res in enumerate(results):\n",
    "            output.write(f\"{lines[i]} {res}\\n\")\n",
    "```"
   ]
  },
  {
   "cell_type": "markdown",
   "id": "69f921f6-357c-467f-a2db-aff4ff063717",
   "metadata": {},
   "source": [
    "We'll create now an `input.txt` file with one integer number per line, create a folder called `results`, "
   ]
  },
  {
   "cell_type": "code",
   "execution_count": 10,
   "id": "4bd816dd-9194-4536-8433-f510816b337d",
   "metadata": {},
   "outputs": [],
   "source": [
    "%%bash\n",
    "mkdir -p results\n",
    "cat << EOF > input.txt\n",
    "3\n",
    "10\n",
    "20\n",
    "EOF"
   ]
  },
  {
   "cell_type": "markdown",
   "id": "c575808d-00ee-426c-9709-de55b2c8fed4",
   "metadata": {},
   "source": [
    "and then execute \n",
    "```bash\n",
    "python calculate_primes.py input.txt results/output.txt\n",
    "```\n",
    "This will create the file `output.txt` file inside the folder `results` with the printed outputs.\n",
    "\n",
    "::::{admonition} Running from IPython\n",
    "You can also run the previous command directly from the IPython cell inside Jupyter Notebook instead of a terminal by using the `%run` magic command:\n",
    "```ipython\n",
    "%run calculate_primes.py input.txt results/output.txt\n",
    "```\n",
    "::::"
   ]
  },
  {
   "cell_type": "code",
   "execution_count": 8,
   "id": "98ff26be-8ffd-4c2e-ab28-de831b4b033c",
   "metadata": {},
   "outputs": [],
   "source": [
    "%run calculate_primes.py input.txt results/output.txt"
   ]
  },
  {
   "cell_type": "code",
   "execution_count": 9,
   "id": "9be51fe2-0485-49b0-96f1-07c7c8a8f028",
   "metadata": {},
   "outputs": [
    {
     "name": "stdout",
     "output_type": "stream",
     "text": [
      "3 [2, 3]\n",
      "10 [2, 3, 5, 7]\n",
      "20 [2, 3, 5, 7, 11, 13, 17, 19]\n"
     ]
    }
   ],
   "source": [
    "!cat results/output.txt"
   ]
  },
  {
   "cell_type": "markdown",
   "id": "1759a6db-b531-4282-8759-ad8d4eb63d1a",
   "metadata": {
    "user_expressions": []
   },
   "source": [
    "## 1. Automation with Bash\n",
    "\n",
    "Now, if we now want to perform one simple operation, we can run individually commands form the terminal. However, \n",
    "\n",
    "1. This doesn't look fully reproducible \n",
    "2. It doesn't escalate very well when our analysis requires execution of multiple program lines. \n",
    "3. Do not generalize very well to cases with different input/output files. \n",
    "\n",
    "Notice that the workflow introduced in the previous section required at least three steps: the activation of the correct conda environment, the creation of the output folder, and the execution of the Python script. \n",
    "\n",
    "A first solution to some of this problems will be to create a Bash script that executes all these operations. Let's make this \n",
    "```bash\n",
    "#!/bin/bash\n",
    "\n",
    "conda activate notebook\n",
    "mkdir results \n",
    "python calculate_prime.py input.txt results/output.txt\n",
    "```\n",
    "The header of the file has the shebang `#!` that indicates that this is an executable file. You will probably need to change the permission to the file in order to execute it. Explore the `chmod` command in bash for doing this\n",
    "```{warning}\n",
    "This doens't activate the environment since it does't recognize conda from the bash script.\n",
    "```\n"
   ]
  },
  {
   "cell_type": "markdown",
   "id": "6f0ec446-e397-4850-b3d7-c3a509bb37e8",
   "metadata": {},
   "source": [
    "## 2. Our first Makefile\n",
    "\n",
    "Now, instead of having all these instructions in a bash script, let's use Make instead. This is a build file. Altought similar to a bash script, they are not the same. Let's begin with something simple and let's create a file called `Makefile` with the following content\n",
    "```make\n",
    "# Compute prime numbers\n",
    "results/output.txt : input.txt\n",
    "\tpython calculate_primes.py input.txt results/output.txt\n",
    "```\n",
    "and now, from the terminal let's execute _just_ the command make:\n",
    "```bash\n",
    "make\n",
    "```"
   ]
  },
  {
   "cell_type": "markdown",
   "id": "078cdb5d-7d83-4d2b-b328-90656fcef7b8",
   "metadata": {
    "user_expressions": []
   },
   "source": [
    "This executed the Python script and generates the respective outputs in `results/output.txt`."
   ]
  },
  {
   "cell_type": "markdown",
   "id": "016ce42c-92fa-44f2-b611-f894ac0388d4",
   "metadata": {
    "user_expressions": []
   },
   "source": [
    "```{warning}\n",
    "It is important that the indentation inside `Makefile` are tabs instead of spaces. If you are working from JupyterLab, you can change this configuration in `Settings > Text Editor Indentation`.\n",
    "```"
   ]
  },
  {
   "cell_type": "markdown",
   "id": "6f872070-6ac5-43a2-8355-146d67107361",
   "metadata": {
    "user_expressions": []
   },
   "source": [
    "````{admonition} Make Syntax\n",
    "The basic syntax inside the Makefile can be described as follows\n",
    "```make\n",
    "# Comments\n",
    "<TARGETS> : <DEPENDENCIES>\n",
    "    <PROGRAMS>\n",
    "```\n",
    "The `#` is used for comments. The section for programs can include multiple lines of scrip and with increasing level of complexity, for example by including conditional statements. The important thing you need to know is that inside `<PROGRAM>`, you are running bash code.\n",
    "````"
   ]
  },
  {
   "cell_type": "markdown",
   "id": "0b548666-776b-4d22-b9ea-3e4cc12e5796",
   "metadata": {
    "user_expressions": []
   },
   "source": [
    "### 2.1. Re executing code\n",
    "\n",
    "One of the things that makes Make special is that it doesn't execute operations that had been executed already with dependencies that haven't change over the course of time. For example, in the previous example, the `output.py` depends of both the input data `input.txt` and the Python script `calculate_prime.py`. If we don't change these two files and execute one more time `make` you will observe no change, plus male will print a message similar to this one:"
   ]
  },
  {
   "cell_type": "code",
   "execution_count": 6,
   "id": "ae39d757-0307-4cc7-ba44-9e4ad7d9fa58",
   "metadata": {},
   "outputs": [
    {
     "name": "stdout",
     "output_type": "stream",
     "text": [
      "make: Nothing to be done for 'outputs'.\n"
     ]
    }
   ],
   "source": [
    "!make"
   ]
  },
  {
   "cell_type": "markdown",
   "id": "0cff65a6-31f0-4699-985f-02b989872308",
   "metadata": {
    "user_expressions": []
   },
   "source": [
    "Now, if we make the minimum change to any of the dependencies files, then Make will execute the program again. For example, if you just update the timestamp of any of the files (`touch input.txt`) and run `make` again, you will see the Python code will be executed again and the timestamp of `output.py` will be updated too. "
   ]
  },
  {
   "cell_type": "code",
   "execution_count": 8,
   "id": "a00a9cc3-e3e2-4710-81b3-d1e53679f797",
   "metadata": {},
   "outputs": [
    {
     "name": "stderr",
     "output_type": "stream",
     "text": [
      "bash: /srv/conda/envs/notebook/bin/../lib/./libtinfo.so.6: no version information available (required by /srv/conda/envs/notebook/bin/../lib/libreadline.so.8)\n"
     ]
    },
    {
     "name": "stdout",
     "output_type": "stream",
     "text": [
      "make: Nothing to be done for 'outputs'.\n"
     ]
    }
   ],
   "source": [
    "%%bash\n",
    "touch input.txt\n",
    "make"
   ]
  },
  {
   "cell_type": "markdown",
   "id": "d1fd4529-3ac8-4e2a-8d40-e50f84cb53aa",
   "metadata": {},
   "source": [
    "Some advantages of this build-in memory system of Makefiles are\n",
    "- We save repeating unnecessary operations as we run a dataflow. "
   ]
  },
  {
   "cell_type": "markdown",
   "id": "54bf721a-b1bf-4b24-b06d-0a9305990c44",
   "metadata": {
    "user_expressions": []
   },
   "source": [
    "### 2.2. Special characters\n",
    "\n",
    "As you can see from `Makefile`, we are being redundant about the name of both dependency and target files. Instead of \n",
    "```make\n",
    "results/output.txt : input.txt\n",
    "    python calculate_prime.py input.txt results/output.txt\n",
    "```\n",
    "we can instead write\n",
    "```\n",
    "results/output.txt : input.txt\n",
    "    python calculate_prime.py $^ $@\n",
    "```"
   ]
  },
  {
   "cell_type": "markdown",
   "id": "e35efba1-978f-4c80-8a1f-80683b2c7f05",
   "metadata": {
    "user_expressions": []
   },
   "source": [
    "The symbols beginning with `$` are special characters in Make that have special meaning and can be used as shortcuts. You can find a full list of them [here](https://www.gnu.org/software/make/manual/html_node/Automatic-Variables.html). Some of the most useful ones include\n",
    "- `$^`: The list of all dependencies\n",
    "- `$<`: The name of the first dependency\n",
    "- `$@`: The name of the target\n",
    "- `$%`: Make wildcard (See Section 3.3)"
   ]
  },
  {
   "cell_type": "markdown",
   "id": "4497429e-4cc9-439a-b03f-28f50167cfd7",
   "metadata": {
    "user_expressions": []
   },
   "source": [
    "## 3. Adding more functions to out Makefile\n",
    "\n",
    "Let's explore some other commands we can add to out Makefile that will be useful as we automatize and execute more code. "
   ]
  },
  {
   "cell_type": "markdown",
   "id": "34f2e0b6-51bd-40ad-aaac-78f089573ce3",
   "metadata": {
    "user_expressions": []
   },
   "source": [
    "### 3.1. Cleaning\n",
    "\n",
    "We may be interested in removing all existing output data so we can recreate them. \n",
    "\n",
    "```make\n",
    ".PHONY : clean\n",
    "clean : \n",
    "    rm -f results/*\n",
    "```\n",
    "and then run just the cleaning command with \n",
    "```bash\n",
    "make clean\n",
    "```\n"
   ]
  },
  {
   "cell_type": "markdown",
   "id": "f892158b-a472-4537-ac3d-4fa119ae8fdc",
   "metadata": {
    "user_expressions": []
   },
   "source": [
    "```{admonition} Phony target\n",
    "A phony target is one that is not really the name of a file. It is just a name for some commands to be executed when you make an explicit request. There are two reasons to use a phony target: to avoid a conflict with a file of the same name, and to improve performance (see [here](https://ftp.gnu.org/old-gnu/Manuals/make-3.79.1/html_node/make_34.html) for mor information).\n",
    "```"
   ]
  },
  {
   "cell_type": "markdown",
   "id": "d68e25e4-a844-4b25-9eb9-6e9605d3dc80",
   "metadata": {
    "user_expressions": []
   },
   "source": [
    "### 3.2. Grouping operations\n",
    "\n",
    "Now, we can combine multiple operation under the same group. By creating the target `output`, we can create all the output files using `make outputs`:"
   ]
  },
  {
   "cell_type": "markdown",
   "id": "cb96fe6d-5615-43bb-8221-5bb0ff5570f9",
   "metadata": {
    "user_expressions": []
   },
   "source": [
    "\n",
    "```make\n",
    ".PHONY : outputs\n",
    "outputs : results/output1.txt results/output2.txt\n",
    "\n",
    "result/output1.txt : input1.txt\n",
    "\tpython calculate_prime.py $^ $@\n",
    "    \n",
    "result/output2.txt : input2.txt\n",
    "\tpython calculate_prime.py $^ $@\n",
    "    \n",
    ".PHONY : clean\n",
    "clean : \n",
    "\trm -f results/*\n",
    "```"
   ]
  },
  {
   "cell_type": "markdown",
   "id": "763e2dd9-3057-4e8b-8fcb-8fd4f007abc1",
   "metadata": {
    "user_expressions": []
   },
   "source": [
    "Since `outputs` doesn't refer to the name of any target file, we add it as a `.PHONY` target, just as we did with `clean`.\n",
    "\n",
    "Make will automatically run the first make command inside our `Makefile`. That means that if we locate the following line \n",
    "```make\n",
    ".PHONY : outputs\n",
    "outputs : results/output1.txt results/output2.txt\n",
    "```\n",
    "in the top of our ``Makefile`, then the `make` command will execute by default `make outputs`. "
   ]
  },
  {
   "cell_type": "markdown",
   "id": "227013b4-d983-4234-8cf8-e9a564061a22",
   "metadata": {
    "user_expressions": []
   },
   "source": [
    "### 3.3. Wildcard\n",
    "\n",
    "In our Makefile, there are two ways of using wildcards. For targets and dependencies (the `<TARGETS> : <DEPENDENCIES>` part in our Makefile) we can use a generic wildcard `%`. This is used to find patterns and automatize the processing of them. For example, we simplify the last two commands into one by using\n",
    "```make\n",
    "result/output%.txt : input%.txt\n",
    "    python calculate_primes.py $^ $@\n",
    "```"
   ]
  },
  {
   "cell_type": "markdown",
   "id": "ddae22ca-e910-47f5-be09-134edb1e6978",
   "metadata": {
    "user_expressions": []
   },
   "source": [
    "Now, we can use the placeholder `$*` in to call any matching run we found with `%` between the commands. For example, an equivalent way of running the previous command would be doing \n",
    "```make\n",
    "results/output%.txt : input%.txt\n",
    "    python calculate_prime.py $< results/output$*.txt\n",
    "```"
   ]
  },
  {
   "cell_type": "markdown",
   "id": "cda55b0a-360d-4403-bef2-41d6922b0860",
   "metadata": {
    "user_expressions": []
   },
   "source": [
    "### 3.3. Working directory setup"
   ]
  },
  {
   "cell_type": "markdown",
   "id": "0e7f4a8a-cf6d-46f3-9219-b72edb92edd3",
   "metadata": {
    "user_expressions": []
   },
   "source": [
    "You can also use Make to setup your working directory, running the same operations you will run from the terminal but in a more axiomatic way. \n",
    "```make\n",
    ".PHONY : setup\n",
    "setup:\n",
    "    mkdir results\n",
    "```"
   ]
  },
  {
   "cell_type": "markdown",
   "id": "09e4b74c-c272-4bee-b3d5-9ad4cd8a9224",
   "metadata": {},
   "source": [
    "### 3.4. Make for creating a new environment\n",
    "\n",
    "You can use commands in make to create and manipulate conda environments. You can do this in such a way that you can automatize the process of creating an environment form a `.yml` file, install new dependencies (eg `ipython`) and then create the corresponding kernel for the environment. \n",
    "\n",
    "````{warning}\n",
    "Unfortunately, it is not possible to activate environments using make. A workaround solution to this problem is to have separate make commands to create your environment and install the required dependencies. By doing this, you can execute the full creation and deletion of a conda environment with the bash commands\n",
    "```bash\n",
    "make create_environment \n",
    "conda activate <myenv>\n",
    "make update_environment\n",
    "    \n",
    "make delete_environment\n",
    "```\n",
    "You can find more information about this workflow in this [talk](https://www.youtube.com/watch?v=cCzkL9DhWEE).\n",
    "\n",
    "Another solution to this is to include the following command to your `Makefile`\n",
    "```make\n",
    ".ONESHELL:\n",
    "SHELL = /bin/bash\n",
    "```\n",
    "By default, every line in a recipe of a make command is executed in a different process. The `.ONESHELL:` command allow us to run all the commands inside an operation in the same shell. The line `SHELL = /bin/bash` makes explicit the use of shell, which allow us to do \n",
    "```make\n",
    ".ONESHELL:\n",
    "SHELL = /bin/bash\n",
    "\n",
    "create_environment :\n",
    "\tsource /srv/conda/etc/profile.d/conda.sh\n",
    "\tconda env create -f environment.yml \n",
    "\tconda activate notebook\n",
    "\tconda install ipykernel\n",
    "\tpython -m ipykernel install --user --name make-env --display-name \"IPython - Make\"\n",
    "```\n",
    "````"
   ]
  },
  {
   "cell_type": "markdown",
   "id": "3998d5a3-07a1-4d4f-8b80-02078a3a093f",
   "metadata": {
    "user_expressions": []
   },
   "source": [
    "### 3.5. Self-documenting Makefile\n",
    "\n",
    "A very useful feature we can add to our Makefile is to include documentation for the different operations we write. A simple [hack](https://swcarpentry.github.io/make-novice/08-self-doc/index.html) for doing this automatically consists in including a commented line starting with `##` on top of each operation, for example, \n",
    "```make \n",
    "## clean             : Remove output files\n",
    ".PHONY : clean\n",
    "clean : \n",
    "\trm -f results/*\n",
    "```\n",
    "and then include the following command in your Makefile. \n",
    "```make\n",
    ".PHONY : help\n",
    "help : Makefile\n",
    "\t@sed -n 's/^##//p' $<\n",
    "```"
   ]
  },
  {
   "cell_type": "markdown",
   "id": "27349877-ca62-455c-86d4-75f9aba034c3",
   "metadata": {
    "user_expressions": []
   },
   "source": [
    "Now, the next time you execute `make help` from the terminal you will see "
   ]
  },
  {
   "cell_type": "code",
   "execution_count": 12,
   "id": "9279b180-6c24-4fdb-a769-017ef5b6de99",
   "metadata": {},
   "outputs": [
    {
     "name": "stdout",
     "output_type": "stream",
     "text": [
      " clean       : Remove auto-generated files.\n"
     ]
    }
   ],
   "source": [
    "!make help"
   ]
  }
 ],
 "metadata": {
  "kernelspec": {
   "display_name": "Python 3 (ipykernel)",
   "language": "python",
   "name": "python3"
  },
  "language_info": {
   "codemirror_mode": {
    "name": "ipython",
    "version": 3
   },
   "file_extension": ".py",
   "mimetype": "text/x-python",
   "name": "python",
   "nbconvert_exporter": "python",
   "pygments_lexer": "ipython3",
   "version": "3.12.0"
  }
 },
 "nbformat": 4,
 "nbformat_minor": 5
}
