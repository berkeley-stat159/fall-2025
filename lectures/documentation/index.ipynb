{
 "cells": [
  {
   "cell_type": "markdown",
   "id": "3723b403-64e4-4965-8959-436b307c9c11",
   "metadata": {},
   "source": [
    "# Documentation and Publishing"
   ]
  },
  {
   "cell_type": "markdown",
   "id": "7ceaa5b6-e72f-4c88-a96d-68b93ed4893c",
   "metadata": {},
   "source": [
    "This lecture focused on strategies for documenting code and projects in the first part, and new tools to publish computational projects in the second.\n",
    "\n",
    "See [here](https://docs.google.com/presentation/d/1YgxYuC12J_45ZzTob1FV3wwDNRhlQH-zhRlLh12VjF8/edit?usp=sharing) for the lecture slides. More guided tutorial material for using MyST will be provided in an upcoming lab."
   ]
  }
 ],
 "metadata": {
  "kernelspec": {
   "display_name": "Python 3 (ipykernel)",
   "language": "python",
   "name": "python3"
  },
  "language_info": {
   "codemirror_mode": {
    "name": "ipython",
    "version": 3
   },
   "file_extension": ".py",
   "mimetype": "text/x-python",
   "name": "python",
   "nbconvert_exporter": "python",
   "pygments_lexer": "ipython3",
   "version": "3.12.0"
  }
 },
 "nbformat": 4,
 "nbformat_minor": 5
}
