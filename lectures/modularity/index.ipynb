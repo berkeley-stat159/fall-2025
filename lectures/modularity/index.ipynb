{
 "cells": [
  {
   "cell_type": "markdown",
   "id": "33fd7300-794a-4d78-92d4-d61559f0f330",
   "metadata": {},
   "source": [
    "# Modularity\n",
    "\n",
    "We will first explore different coding styles and preferences to motivate best practices in modularity. We will then discuss how different types of code, including scripts and local imports, can be executed and interacted with via notebooks, terminals, and Ipython. Finally we will go through a detailed example demonstrating how to make code modular and reusable.\n",
    "\n",
    "- Motivation: [code style preferences notebook](01-code-preferences.ipynb).\n",
    "- Different types of code: [code defined in a notebook versus local import](02-code-types.ipynb).\n",
    "- Modularity demonstration: [example of how to make code modular in a noteook](03-modularity.ipynb)."
   ]
  },
  {
   "cell_type": "code",
   "execution_count": null,
   "id": "9b862d1a-f259-4378-97c5-cd17f50e5ff8",
   "metadata": {},
   "outputs": [],
   "source": []
  }
 ],
 "metadata": {
  "kernelspec": {
   "display_name": "Python 3 (ipykernel)",
   "language": "python",
   "name": "python3"
  },
  "language_info": {
   "codemirror_mode": {
    "name": "ipython",
    "version": 3
   },
   "file_extension": ".py",
   "mimetype": "text/x-python",
   "name": "python",
   "nbconvert_exporter": "python",
   "pygments_lexer": "ipython3",
   "version": "3.12.0"
  }
 },
 "nbformat": 4,
 "nbformat_minor": 5
}
