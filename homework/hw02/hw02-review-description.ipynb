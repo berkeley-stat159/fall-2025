{
 "cells": [
  {
   "cell_type": "markdown",
   "id": "43349b28-5333-47a1-b7d2-76d9c783adb3",
   "metadata": {},
   "source": [
    "# Homework 2 Peer Review"
   ]
  },
  {
   "cell_type": "markdown",
   "id": "8c1c3fc6-f489-49c7-9792-8c817d75dc78",
   "metadata": {},
   "source": [
    "* **Statistics 159/259, Fall 2025**\n",
    "* **Due Monday 10/20/2025, 11:59PM PT**\n",
    "* Assignment type: **individual**."
   ]
  },
  {
   "cell_type": "markdown",
   "id": "a42b29e0-5783-44c9-875c-5fc1762dd31c",
   "metadata": {},
   "source": [
    "For our next peer review, we willl be taking a look a peer's implementation of the LIGO tutorial repo. You should have been added as a collaborator to another student's repo, with 'triage' access, meaning that you should be able to open issues, assign people users to address them, and open pull requests. **If you have not been added to another student's repo, please let us know as soon as possible on Ed!** Navigate to your peer's repository on GitHub to get started.\n",
    "\n",
    "Much like last peer review, our main vehicle for reviewing and offering feedback will be GitHub Issues. However, we will try out some more advanced ways of managing, creating, and referencing issues. We will conduct the review by going through the individual components of the homework assignment, opening any relevant issues as they come up."
   ]
  },
  {
   "cell_type": "markdown",
   "id": "50248b79-f4ae-4c2b-892a-2cd5b229f467",
   "metadata": {},
   "source": [
    "## Repository Structure\n",
    "\n",
    "Open an issue in your partner's repository, as we did for the last peer review. Call it 'Repository Structure', and assign your peer to the issue in the Assignees tab on the righthand side of the page. You can leave the description blank. *We will be using this as a meta-issue to organize our comments about the repo structure; comments about specific aspects of the repo structure will be added as sub-issues, detailed below.*"
   ]
  },
  {
   "cell_type": "markdown",
   "id": "9e553ecd-d7bc-4fe9-ba2b-a2bd9ed61287",
   "metadata": {},
   "source": [
    "1. The original assignment asks to grab only a subset of files from the original LIGO repository and work with those, keeping the repo clean of other extraneous files. Open a sub-issue under this one by clicking 'Create sub-issue' > 'Blank issue'. Title it 'Repo Contents', and in the description, comment on (1) whether all of the necessary files seem present and (2) whether there are any unnecessary files that may be cluttering up the repo.\n",
    "\n",
    "2. Navigate to the repo's tags. Is the `repo-basic` tag present? If so, does the commit message seem descriptive? Open another sub-issue titled 'Tag and Commit', and comment on whether the tag is present and the effectiveness of the commit message. "
   ]
  },
  {
   "cell_type": "markdown",
   "id": "f2f3b9bd-f1f3-49af-a085-9e0c740f21f8",
   "metadata": {},
   "source": [
    "## ligotools package\n",
    "\n",
    "Open another meta-issue in your partner's repository, called 'ligotools'. Once again, assign your peer to the issue."
   ]
  },
  {
   "cell_type": "markdown",
   "id": "6d1363dc-a691-4c67-a485-d461ed9b135a",
   "metadata": {},
   "source": [
    "1. Is the ligotools package present? If so, does it have an `__init__.py` file? Add a sub-issue called 'ligotools content', and briefly comment in the description.\n",
    "2. As before, check if the `ligotools-pkg` tag is present, and comment on the effectiveness of the associated commit message."
   ]
  },
  {
   "cell_type": "markdown",
   "id": "17f28fa3-51d3-4af4-b712-94ddb7ae89a6",
   "metadata": {},
   "source": [
    "## LIGO conda environment\n",
    "Open another meta-issue called 'LIGO conda environment', and assign your peer to the issue."
   ]
  },
  {
   "cell_type": "markdown",
   "id": "f1daa556-f02c-403d-a252-66af582592f9",
   "metadata": {},
   "source": [
    "1. Is the `environment.yml` file present? If so, open it up and take a look. Does it seem like all of the necessary packages are present, or do you feel like there is more than is minimally necessary to run the notebook? The LIGO notebook really only needed a handful of packages to be installed to work. Is it clear which packages were needed and installed, or are there too many packages listed to tell? Open up a sub-issue called 'environment.yml' and add your commentary.\n",
    "2. As before, check the `conda-env` tag is present, and comment on the effectiveness of the associated commit message."
   ]
  },
  {
   "cell_type": "markdown",
   "id": "b71cd5dd-db59-41ec-aa71-19e9ebd6cf68",
   "metadata": {},
   "source": [
    "## Add Binder support\n",
    "Open another meta-issue called 'Binder support', and once again assign your peer to the issue."
   ]
  },
  {
   "cell_type": "markdown",
   "id": "7d075b91-86c5-48f4-996f-11e329bffb47",
   "metadata": {},
   "source": [
    "1. Is the binder badge present in your peer's `README`? If so, click it. Does it successfully build and take automatically take you to the LIGO tutorial notebook? Or does it direct you somewhere else? Open a sub-issue called 'binder build' and briefly comment there.\n",
    "2. Run the cells in the notebook. Are there any errors? As part of the assignment, we asked you to correct an error in the LIGO notebook's use of the `scipy.signal` functions `blackman` and `tukey`. Was the error corrected? Open a sub-issue called 'scipy error' and briefly comment there."
   ]
  },
  {
   "cell_type": "markdown",
   "id": "a69f87d9-94fc-49cc-a4d1-62db1c6dff56",
   "metadata": {},
   "source": [
    "## Correcting an Issue via a Pull Request\n",
    "\n",
    "You've now opened a bunch of issues on your partner's repo. GitHub also allows you to suggest corrections to fix any issues you've brought up, by way of submitting a pull request.\n",
    "\n",
    "Among all of the issues you've opened, find one that seems easy enough for you to correct. Each issue you've created has an associated number (starting from 1). Take note of this number. If there aren't any you can think of, open a separate sub-issue in the 'Binder support' meta-issue called 'Test PR' so we can still practice the workflow, and take note of this issue's number.\n",
    "\n",
    "1. Create a fork of your partner's repo, choosing the owner as your personal account (as opposed to the course organization).\n",
    "2. Make the change that would fix the issue. Commit it to your fork. If you couldn't find an issue to correct, add a random text file to the repo called `test.txt`, and put some text in it to simulate a change. You can do this directly in GitHub, or you can clone a copy into the DataHub and make changes from there if you wish.\n",
    "3. Navigate to your fork of your peer's repo on GitHub. You should see a button that says 'Contribute'. Click it, and click 'Open pull request'. In the description, type 'Fixes #x' where x is the issue number you noted earlier.\n",
    "4. You're done! Now, your peer will be able to see your pull request in the Pull Requests tab of their repo. If they merge your PR, the issue you mentioned will be automatically closed. *Note: the original repo owners do not have to do this for the purposes of the assignment, but if you'd like to see this functionality in action I'd highly recommend doing it. It's cool!*\n",
    "\n",
    "\n",
    "**Note:** as it turns out, GitHub automatically closes issue when they are referenced in particular ways in commit messages and pull request descriptions. If you'd like to learn more, see [this blog post](https://github.blog/news-insights/product-news/closing-issues-via-commit-messages/)."
   ]
  }
 ],
 "metadata": {
  "kernelspec": {
   "display_name": "Python 3 (ipykernel)",
   "language": "python",
   "name": "python3"
  },
  "language_info": {
   "codemirror_mode": {
    "name": "ipython",
    "version": 3
   },
   "file_extension": ".py",
   "mimetype": "text/x-python",
   "name": "python",
   "nbconvert_exporter": "python",
   "pygments_lexer": "ipython3",
   "version": "3.12.0"
  }
 },
 "nbformat": 4,
 "nbformat_minor": 5
}
