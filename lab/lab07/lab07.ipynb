{
 "cells": [
  {
   "cell_type": "markdown",
   "id": "53903a16-b7f0-44b6-ab56-5e24473e446c",
   "metadata": {},
   "source": [
    "# Lab Session 7: Testing and MyST Intro\n",
    "\n",
    "> Friday 10-24-2025, 9AM-11AM & 1PM-3PM & 3PM-5PM\n",
    ">\n",
    "> Instructors: Instructors: [Jimmy Butler](https://statistics.berkeley.edu/people/james-butler) & [Sequoia Andrade](https://statistics.berkeley.edu/people/sequoia-rose-andrade)\n",
    "\n",
    "What's on tap for today:\n",
    "1. **Testing and Continuous Integration.** We will revisit the `Eratosthenes` project from Lab 4, improving upon it by writing tests and seeing how we can automate the testing workflow.\n",
    "2. **MyST/Jupyter Book 2 Intro.** We'll introduce the mechanics of how to build a website using *MyST/Jupyter Book 2* to document and share your computational projects. This intro will be fairly limited in scope today; our primary goal is to give you the technical know-how to get started on the next homework assignment, and we will go into much greater depth next lab session."
   ]
  },
  {
   "cell_type": "markdown",
   "id": "4fcf9582-eaca-4a9f-a51e-0ef086e4d325",
   "metadata": {},
   "source": [
    "## Testing"
   ]
  },
  {
   "cell_type": "markdown",
   "id": "1cb60795-da57-470f-9d7e-732af59c1f30",
   "metadata": {},
   "source": [
    "During Lab04 we turned the `Erasthostenes.ipynb` (located in this same folder `lab04` in the `site` repository, also in the `lab04` folder in the `shared` directory) into a project with its own installable modules. We didn't quite get to making the proper `conda` environment and hosting on Binder; however, you all got extensive practice with this in HW 1, so we will be providing a GitHub repository with the final product from the Lab 4 exercises. If you completed the exercises on your own and would like to use that repo, you are of course welcome to do so! In this follow up lab, we are going to be adding some tests to the code.\n",
    "\n",
    "You can find the solutions repository [here](https://github.com/UCB-stat-159-f25/eratosthenes).\n",
    "\n",
    "To get started, first create a fork of the Eratosthenes repository, and clone that fork to the Datahub. We will be designing tests on this fork. Please choose the owner of the fork as your own personal GitHub account; if you are concerned that this will clutter up your personal GitHub account, you may choose the course organization as the owner, but please change the name of the repo to `<your GH username>-eratosthenes` so we can distinguish with the original copy."
   ]
  },
  {
   "cell_type": "markdown",
   "id": "e7632be4-71d4-4e41-ab93-2911fdb2b3d6",
   "metadata": {},
   "source": [
    "## 1. Simple Testing\n",
    "\n",
    "Design some unit, integration, and regression tests for your Eratosthenes project. As we discussed in class, the first ones are easier to make, but still there are some things you need to think about:\n",
    "1. How do you test code involving floating point numbers?\n",
    "2. How do you test code that produces figures?\n",
    "3. How do you test code that runs simulations or computes performance benchmarkings?"
   ]
  },
  {
   "cell_type": "markdown",
   "id": "975de257-ee36-4f2d-9ccd-84fe3eeb5322",
   "metadata": {},
   "source": [
    "## 2. Using PyTest\n",
    "\n",
    "The *Workflow and Automation* lecture from Spring 2023 provides some examples of how to run the tests from previous section automatically all at once by using `pytest`. Follow these steps in order to reproduce the results of your tests but now using `pytest`. You can find the lecture [here](https://ucb-stat-159-s23.github.io/site/lectures/testing/workflow.html)"
   ]
  },
  {
   "cell_type": "markdown",
   "id": "ba436832-887e-4420-88db-ba575aaf1d1c",
   "metadata": {
    "user_expressions": []
   },
   "source": [
    "## 3. Continuous Integration for testing\n",
    "\n",
    "The last section in the _Workflow and Automation_ section in the lecture has a tutorial about how to automatically test your code everytime you push a new commit to GitHub. This is the first example of Continuous Integration (CI) you will explore in this course. Follow these steps in order to automate your new tests!"
   ]
  },
  {
   "cell_type": "markdown",
   "id": "6eab351a-08c9-4f31-a4a4-959bfc382909",
   "metadata": {},
   "source": [
    "## MyST/Jupyter Book 2 Intro"
   ]
  },
  {
   "cell_type": "markdown",
   "id": "43d4d3b9-1dc3-497d-a246-bda3295fe834",
   "metadata": {},
   "source": [
    "As mentioned in lecture this past Wednesday, MyST and Jupyter Book 2 are exciting new tools that can be used to turn a collection of Jupyter Notebooks and Markdown files into a nice book-style website. They can smartly integrate computational output from notebooks, handle references and cross-linking of figures, equations, citations, etc. with ease, and also looks very pretty, all with minimal effort!\n",
    "\n",
    "See the [lecture slides](https://docs.google.com/presentation/d/1YgxYuC12J_45ZzTob1FV3wwDNRhlQH-zhRlLh12VjF8/edit?usp=sharing) for some more high-level details about MyST.\n",
    "\n",
    "Today, we are going to practice the workflow for deploying sites using MyST. We will be barely scratching the surface of what MyST can do; we will mainly be focused on the mechanics of getting set up, and hopefully you will get your footing by the end of this mini-tutorial."
   ]
  },
  {
   "cell_type": "markdown",
   "id": "250328dd-f9b2-45d9-94bd-a68a2dd9ebcb",
   "metadata": {},
   "source": [
    "### Using the Eratosthenes Repo\n",
    "We will be making a MyST site using the Eratosthenes repo. Navigate to it to get started!"
   ]
  },
  {
   "cell_type": "markdown",
   "id": "8f036b59-5088-4ae0-b2f0-9b1c3cfcee5c",
   "metadata": {},
   "source": [
    "### Initialize a MyST Project\n",
    "MyST has a simple command-line interface, or CLI, that makes it very easy to deploy and build beautiful projects and websites. To start a new MyST project, navigate to the home folder of your repository, and type `myst init` in the command line. *You will be prompted if you would like to run myst start. Let's say no for now.*\n",
    "\n",
    ":::{note}\n",
    "`myst start` is useful to run if you'd like to view a locally hosted version of your site, but it only works if you are using MyST on your local computer. Since we are operating from the Datahub, we'll have to do something else (covered below).\n",
    ":::"
   ]
  }
 ],
 "metadata": {
  "kernelspec": {
   "display_name": "Python 3 (ipykernel)",
   "language": "python",
   "name": "python3"
  },
  "language_info": {
   "codemirror_mode": {
    "name": "ipython",
    "version": 3
   },
   "file_extension": ".py",
   "mimetype": "text/x-python",
   "name": "python",
   "nbconvert_exporter": "python",
   "pygments_lexer": "ipython3",
   "version": "3.12.0"
  }
 },
 "nbformat": 4,
 "nbformat_minor": 5
}
