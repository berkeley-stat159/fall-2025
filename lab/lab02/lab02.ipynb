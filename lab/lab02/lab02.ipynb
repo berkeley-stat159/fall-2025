{
 "cells": [
  {
   "attachments": {},
   "cell_type": "markdown",
   "metadata": {},
   "source": [
    "##### Lab Session 2: Git, Dotfiles, and Branches\n",
    "\n",
    "> Friday 09-12-2025, 9AM-11AM & 1PM-3PM & 3PM-5PM\n",
    ">\n",
    "> Instructors: [Jimmy Butler](https://statistics.berkeley.edu/people/james-butler) & [Sequoia Andrade](https://statistics.berkeley.edu/people/sequoia-rose-andrade)\n",
    "\n",
    "**Plan for today:**\n",
    "\n",
    "  1. **Dotfiles**. In git repositories, there are these hidden files called *dotfiles*. We'll cover what they do and why they are there.\n",
    "\n",
    "  1. **Local practice with git**. In our Week 2 lecture, we learned the fundamentals of git repositories and covered a useful mental model to understand repositories. We will reinforce these concepts by illustrating interaction with a test local git repository.\n",
    "\n",
    "  1. **Branches**. We'll get some practice making branches on local git repositories, and how to manage divergent branches and any conflicts that may arise.\n",
    "\n",
    "**Useful links:**\n",
    "- [JupyterHub](https://stat159.datahub.berkeley.edu/hub/login?next=%2Fhub%2F)\n",
    "- [Dotfiles](https://github.com/fperez/dotfiles)"
   ]
  },
  {
   "cell_type": "markdown",
   "metadata": {},
   "source": [
    "## 1. Dotfiles\n",
    "\n",
    "We are going to make a local setup of bash, git, conda and more following the [.dotfiles](https://github.com/fperez/dotfiles/blob/main/.README.md) repository. Take some time to read the `.README` inside the repository. The `.README` is self explanatory, but you can follow these instructions.\n",
    "\n",
    "1. Fork the `dotfiles` repository in your personal GitHub account by clicking the `Fork` bottom in the upper right corner in the GitHub website for the repository. \n",
    "2. Clone your fork repository in your home directory in the JupyterHub. There are two important things to keep in mind when cloning the repository i) Clone the repository as a `bare` repository (`git clone --bare`), and ii) Change the name of the local repository folder to `.dotfiles`. You can do these with\n",
    "```bash\n",
    "git clone --bare https://github.com/<YOUR USERNAME>/dotfiles.git $HOME/.dotfiles\n",
    "```\n",
    "3. Define an alias for manipulating files inside `.dotfiles`\n",
    "```bash\n",
    "alias gdot='git --git-dir=$HOME/.dotfiles --work-tree=$HOME'\n",
    "```\n",
    "4. Checkout the main branch into `$HOME`:\n",
    "```bash\n",
    "gdot switch -f main\n",
    "```"
   ]
  },
  {
   "cell_type": "markdown",
   "metadata": {},
   "source": [
    "If you visualize the hidden files in you home directory (`View > Show Hidden Files`), you will see a series of configuration files with the names `.bashrc`, `gitconfig`, `condarc`, etc. Explore a little bit what is inside these files. \n",
    "\n",
    "Some of these files have Fernando's information. Change for yours and then commit and push those changes to your fork of `.dotfiles`. In order to do so, you can use the `gdot` alias. For example, if you changed your username in `.gitconfig`, you can do \n",
    "```bash\n",
    "gdot add .gitconfig\n",
    "gdot commit -m\"Change username\"\n",
    "gdot push\n",
    "```\n",
    "\n",
    "Note: if this is your first time pushing to this repo, you may have to specify the remote you are pushing to. Run the following command instead of `git push`.\n",
    "\n",
    "```bash\n",
    "gdot push -u origin main\n",
    "```\n",
    "\n",
    "The command `gdot status` will show all the untracked files, which in your home directory is likely a lot. To disable this behavior, use the following, which tells git to remove all untracked files and directories from status listings\n",
    "```bash\n",
    "gdot config --local status.showUntrackedFiles no \n",
    "```"
   ]
  },
  {
   "cell_type": "markdown",
   "metadata": {},
   "source": [
    "### Dotfiles in Action\n",
    "\n",
    "Recall from Lab 0 that we set our git configurations using the following syntax:\n",
    "\n",
    "```bash\n",
    "git config --global <setting> <option> \n",
    "```\n",
    "\n",
    "For example, we configured our name and email:\n",
    "\n",
    "```bash\n",
    "git config --global user.name \"Fernando Perez\"\n",
    "git config --global user.email \"fperez@berkeley.edu\"\n",
    "```\n",
    "We also just practiced changing the default text editor that git uses for commit messages. For example, if we wanted to use nano:\n",
    "```bash\n",
    "git config --global core.editor \"nano\"\n",
    "```\n",
    "\n",
    "As it turns out, running these commands actually edits the `.gitignore` dotfile in our home directories. If instead we wanted to edit the dotfile directly to add our credentials, we could do that!\n",
    "\n",
    "If you already have `.dotfiles` installed on your machine, you would be able to the see following line inside `.gitignore`:\n",
    "```\n",
    "[core]\n",
    "\texcludesfile = ~/.gitignore\n",
    "\teditor = nano\n",
    "```\n",
    "which indicates the default editor being used by git. "
   ]
  },
  {
   "cell_type": "markdown",
   "metadata": {},
   "source": [
    "## 2. Practicing Git\n",
    "\n",
    "We will be practicing the file and directory commands for manipulation of files inside a local `test` git repository. For this exercise, we will not be dealing with any remote copies of the repo on GitHub."
   ]
  },
  {
   "cell_type": "markdown",
   "metadata": {},
   "source": [
    "### Exercise\n",
    "\n",
    "Basic git manipulation:\n",
    "1. Create a new folder called `git_test` and move inside that folder. \n",
    "1. Initialize a git repository with `git init`. \n",
    "1. Create a new text file in the folder called `text1.txt`. \n",
    "1. Make git track the changes in that file (`git add`) and make an initial commit to the repository. \n",
    "1. Make changes to the same file and commit those changes. This time, instead of using `git commit -m\"my commit\"` use just `git commit`. This will launch the default git editor from where you can write and save your commit message. *(Note: the default editor is Vi; go to the Text Editors section of Lab 1 for guidance on how to navigate the Vi interface to input a commit message)*\n",
    "1. Change the editor used in git with `git config --global core.editor <editor>`. Repeat the procedure with the different editors listed in Lab 1 (vi, nano, emacs). Which editor do you find easier to use?\n",
    "1. What do we do if we enter a wrong commit message? Try using `git commit --amend`."
   ]
  },
  {
   "cell_type": "markdown",
   "metadata": {},
   "source": [
    "## 3. Branching\n",
    "\n",
    "Let's start with some basic warm up. In the Week 2 lecture, we saw how git repositories work, how to make changes to them, and how commits are organized in a tree (formally, a *directed acyclic graph* or *DAG*). We are going to simulate the case where we have two programmers working in different branches of the same repository, and then attempt to merge those changes.\n",
    "\n",
    "For this exercise, we will use the `git_test` repository we used earlier."
   ]
  },
  {
   "cell_type": "markdown",
   "metadata": {},
   "source": [
    "### 3.1. Merging two branches\n",
    "\n",
    "We start working in our `main` branch of the `git_test` repository. Now we want to try new experiments in a new branch. If everything goes well with our experiment, we may wish to merge it to `main`.\n",
    "1. Create a new branch, for example by using `git switch -c <branchname>`. You can also create a new branch with `git branch <branchname>` and move to the new branch with `git checkout <branchname>`.\n",
    "1. Make new changes in this new branch. Add new text files. Remember to commit these changes.\n",
    "1. Switch to `main` again and make changes in a different file.\n",
    "1. **Merge both branches**. Merge the experimental branch into `main` using `git merge`.\n",
    "1. Delete the old branch (See more info [here](https://www.freecodecamp.org/news/git-delete-branch-how-to-remove-a-local-or-remote-branch/)):\n",
    "    1. From your local repository: `git branch -d <branchname>`\n",
    "    1. From your remote repository: `git push <remote name> -d <branch name>`"
   ]
  },
  {
   "cell_type": "markdown",
   "metadata": {},
   "source": [
    "### 3.2. Solving conflicts in the same file\n",
    "\n",
    "When merging the two branches above, you should have seen that git automatically performed the merge, without needing any human input. This is because the two branches edited different files, so when merging the changes on the two branches, git could just take the sum total of the changes made in each branch. However, if two different branches modify the same file in the same location, git simply can't decide which change should prevail.  At that point, human intervention is necessary to make the decision.  Git will help you by marking the location in the file that has a problem, but it's up to you to resolve the conflict.  Let's see how that works by intentionally creating a conflict.\n",
    "\n",
    "1. Create a new branch and make some changes to an specific file, let's say `text.txt`. Remember to commit these changes!\n",
    "1. Comeback to the `main` branch and make some more modifications to the same file `text.txt` in the same position where you made changes from the other branch. Commit the changes again.\n",
    "1. Now, if you try to `git merge <newbranch>` now (as we did in the previous section), you will see the next message error\n",
    "```\n",
    "Auto-merging text.txt\n",
    "CONFLICT (content): Merge conflict in text.txt\n",
    "Automatic merge failed; fix conflicts and then commit the result.'\n",
    "```\n",
    "1. View the contents of `text.txt`, you will see that both changes are overlapped in the same file (you can just see the contents by using `cat text.txt` or opening the file with any text editor). In order to solve the conflict, you need to edit the file manually and decide with changes to keep. Use any text editor (micro, emacs, etc) to edit such file and keep the changes you want.\n",
    "1. Commit your changes and to solve the conflict."
   ]
  }
 ],
 "metadata": {
  "kernelspec": {
   "display_name": "Python 3 (ipykernel)",
   "language": "python",
   "name": "python3"
  },
  "language_info": {
   "codemirror_mode": {
    "name": "ipython",
    "version": 3
   },
   "file_extension": ".py",
   "mimetype": "text/x-python",
   "name": "python",
   "nbconvert_exporter": "python",
   "pygments_lexer": "ipython3",
   "version": "3.12.0"
  }
 },
 "nbformat": 4,
 "nbformat_minor": 4
}
