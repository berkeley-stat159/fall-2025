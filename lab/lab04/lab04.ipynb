{
 "cells": [
  {
   "cell_type": "markdown",
   "id": "de9d40f8-1e94-4568-b87d-bbf65876a8a7",
   "metadata": {},
   "source": [
    "# Lab Session 4: Pull Requests, Modularization, Environments, Binder\n",
    "\n",
    "> Friday 09-26-2025, 9AM-11AM & 1PM-3PM & 3PM-5PM\n",
    ">\n",
    "> Instructors: Instructors: [Jimmy Butler](https://statistics.berkeley.edu/people/james-butler) & [Sequoia Andrade](https://statistics.berkeley.edu/people/sequoia-rose-andrade)\n",
    "\n",
    "**Plan for today:**\n",
    "\n",
    "1. **Forks and Pull Requests**: Suppose instead of working on the same exact remote copy of a repo, you work on a separate *fork* of that repo and wish to merge your changes to the main one. How will you do that?\n",
    "1. **Modularization**: We saw in lecture how nice it can be to abstract code into functions, and possibly even relegate them to separate scripts in our repos to call elsewhere. We'll get some practice with that today.\n",
    "1. **Environments and Binder**: We will practice making `conda` environments that contain all of the necessary packages we need to run code, and export our repositories to Binder to be run by the general public, showing your code is reproducible.\n",
    "\n",
    "Inside the notebook `Erasthostenes.ipynb` (located in this same folder in the `site` repository) there is a non-very well written piece of code for calculating all prime numbers until a certain number. We are going to work with the contents of this notebook and re-organize it so it looks like a decent project: better code, better documentation, and more reproducible. \n",
    "\n",
    "Useful links:\n",
    "- [Lecture on modularity](https://ucb-stat-159-f25.github.io/site/lectures/modularity/)\n",
    "- Environments lecture has not taken place yet, but we are skipping ahead since **there will be no lab next week**."
   ]
  },
  {
   "cell_type": "markdown",
   "id": "a681a618-11fd-44a4-a93a-8923c7a0b039",
   "metadata": {},
   "source": [
    "## 0. Reconstructing past versions\n",
    "\n",
    "**This material will not be covered in this lab. Moved here for your own reference since the guide is relatively self-explanatory, but we can go over it in a future week.**\n",
    "\n",
    "Sometimes we make changes to files in a repository that we want to undo, and sometimes we delete files that we would like back. The commands to use depend on how embedded the change is in your repository (whether it has been added, committed or pushed)."
   ]
  },
  {
   "cell_type": "markdown",
   "id": "d3ed8f8c-2724-4262-92bc-fda463ca656d",
   "metadata": {},
   "source": [
    "### 0.1. Restoring old versions of files\n",
    "\n",
    "For this example, we are going to make modifications to one of the files in our repository and then recover some of the older versions. Let's work with the `lab3_clone` repos.\n",
    "\n",
    "#### Neither Added nor Committed\n",
    "Edit a text file in your repository, but don't add or commit it. If you'd like to undo it and go back to the previous version stored in git (via commits), use `git restore <filename>`.\n",
    "\n",
    "#### Added but not Committed\n",
    "Edit that same text file, and use `git add <filename>` to add it to the staging area right before you are about to commit. However, before committing you realized you want to undo this change. Use `git restore --staged <filename>` to unstage the changes. The file will remain changed in your working directory, but it will no longer be in the staging area to be committed to the repo (to revert back to the previous version of the file, you must further `git restore <filename>`).\n",
    "\n",
    "#### Committed\n",
    "Edit that same text file, but now add and commit the change with an informative message. Make a second edit, adding and committing this change as well with an informative message. Suppose you want to go back to the version of the file in the first commit that we just did. Run `git slog` to find the commit that has the version of the file you'd like to return to. Note its hash number (7 digits), and then run `git checkout <hash> <filename>`. This will revert that file to the version from that commit. However, the old version of the file is put in the staging area; you'll have to commit it if you'd like to update the commit record of the git repo with this version.\n",
    "\n",
    "Commits are snapshots of a repo at various points in time. You can take advantage of this by reverting back to old states of the repo. Try the following commands.\n",
    "\n",
    "Suppose you'd like to undo the previous commit so that the git repo commit graph changes, but keep all of the changes in your working directory.\n",
    "```bash\n",
    "git reset HEAD~1\n",
    "```\n",
    "\n",
    "Suppose you'd like to take the repo back to a specific previous commit, keeping all of the changes in the working directory.\n",
    "```bash\n",
    "git reset <hash>\n",
    "```\n",
    "\n",
    "Suppose you'd like to take the repo back to a specific previous commit AND get rid of all changes in the working directory.\n",
    "```bash\n",
    "git reset --hard <hash>\n",
    "```\n",
    "\n",
    "#### Pushed to a Remote\n",
    "\n",
    "Suppose you have changes that you've already pushed and you'd like to undo that commit, leaving all later commits intact.\n",
    "```bash\n",
    "git revert <hash>\n",
    "```\n",
    "This will create a commit that undoes what the selected commit did only, relative to its parent commit. So, your previous version of the repo will still be in the commit history, which is safe. However, if you committed a change to the repo that edited the change made in your desired commit, there will be a merge conflict, and we resolve it in a similar way. Once it's been resolved, we `git push` to update the remote.\n",
    "\n",
    "Suppose we'd like to take the whole repo back to a particular commit, but keep the changes in our working directory so that we can edit them. As in the previous section, we can reset the repo to that hash.\n",
    "```bash\n",
    "git reset <hash>\n",
    "```\n",
    "Then we can make any changes we want to those files in the working directory. Then, we can add and commit them when we're ready. However, we cannot just do a standard `git push` as our local repo is now potentially several commits behind the remote. So, we must add the `-f` flag, which stands for force, to our push call.\n",
    "\n",
    "```bash\n",
    "git push -f\n",
    "```\n"
   ]
  },
  {
   "cell_type": "markdown",
   "id": "6ad9be5a-0261-4224-a836-73c10c9ee8df",
   "metadata": {
    "jp-MarkdownHeadingCollapsed": true
   },
   "source": [
    "## 1. Forks and Pull Requests\n",
    "\n",
    "Sometimes it is useful to create a completely new copy of a repository and work on that before merging the new changes to the main repository. This is particularly when contributing to software packages, big projects, or just when we want to experiment a little bit having the version control capabilities without adding changes to the main repository. This is where **forks** come into play, and then **pull requests** if we want to merge changes across repositories (or inside the repository too).\n",
    "\n",
    "The idea of a pull request is to merge a branch for any given repository to a branch of another repository.\n",
    "\n",
    "Find your partner last week and reassume the roles of Alice and Bob. If your Alice or Bob is not present, try to join another group.\n",
    "1. Bob forks Alice's repository (`alice/test`) into his own GitHub account (`bob/test`). \n",
    "1. Bob clones his fork into his local machine. \n",
    "1. Bob makes some changes and commits them. \n",
    "1. Bob pushes his changes to GitHub. \n",
    "1. Once in GitHub, Bob creates a pull request to merge his changes into `alice/test`. At the moment of doing this, add Alice as reviewer of the pull request. \n",
    "1. Now Alice needs to accept Bob changes to the main repository. \n",
    "\n",
    "Repeat this but now change roles between Bob and Alice. "
   ]
  },
  {
   "cell_type": "markdown",
   "id": "0009aff4-c99a-44b6-b0ee-3230954f4d81",
   "metadata": {},
   "source": [
    "## 2. Modularization\n",
    "\n",
    "First things first: be sure you can run all the code inside `Eratosthenes.ipynb`.\n",
    "After being sure the code runs, we are going to start with some re-organization of the code inside `Eratosthenes.ipynb`.\n",
    "\n",
    "<img src=\"https://www.onlinemathlearning.com/image-files/sieve-prime.jpg\" alt=\"eratosthenes\" width=\"400\"/>\n"
   ]
  },
  {
   "cell_type": "markdown",
   "id": "4b8c8200-a9c9-4acc-a1fc-10d13465b036",
   "metadata": {},
   "source": [
    "### 2.1. Reorganization\n",
    "\n",
    "1. The first thing you will do is to create two separate functions for the sieve of Eratosthenes algorithms. These are the first things you will see inside the notebook. What should be the inputs to the function? \n",
    "2. Now, these two functions have the same effect but they have different implementations. Most likely, they also have the same arguments and outputs. Create a new function `get_primes` that let's the user choose which algorithm to run, and then runs it.\n",
    "3. Move these three functions to a separate script called `sieve.py`. Remember to import the necessary libraries inside `sieve.py`.\n",
    "4. Import all this function into the notebook using the `import` statement in the first cell of the notebook. \n",
    "```{warning}\n",
    "For now, every time you make a change in `sieve.py` and a consequent `import` inside the notebook, you will have to restart the kernel first. This is because once imported, the iPython kernel reads that the script has been already loaded and it doesn't look for differences in the new file. In general, it's a good practice to restart your kernel once the counter starts increasing and after doing significant reorganization changes in the notebook, like we are doing here.\n",
    "```\n",
    "5. In the section _Long Run: proportion of prime numbers_ there is a long run of exactly the same code than before but inside a for loop, so we can evaluate the proportion of prime numbers as we increase the search window. Make a new function called `proportion_primes` that does this.\n",
    "6. Your functions look good, but now let's add some documentation to them. Add a `docstring` to them. How can you access the docstrings from the notebook? \n",
    "7. Be sure you can run these functions from the notebook _after you move the code to the scripts (no function definitions remain in the notebook, only calls to the functions)_ and _after you have restarted your kernel_."
   ]
  },
  {
   "cell_type": "markdown",
   "id": "3885d35a-e3eb-4d3b-a6cb-798e285d645f",
   "metadata": {
    "jp-MarkdownHeadingCollapsed": true,
    "tags": []
   },
   "source": [
    "### 2.2. Modules\n",
    "\n",
    "1. Now, after you know the previous import statements are working, move to `sieve.py` to a new folder called `sievetools`.\n",
    "2. Inside the folder, create an `__init__.py` file with the required contents so you can do the import from the notebook. Now, you should be able to do the import in the notebook by doing \n",
    "```python\n",
    "from sievetools import sieve\n",
    "```\n",
    "\n",
    "```{tip}\n",
    "Now that you have a proper module, you can import the scripts using the `import imp; imp.reload(\"sieve.py\")` in case you want the changes to be reflected after the import. \n",
    "```\n",
    "3. Each one of the files inside `sievetools` is called a module. Now, continue your cleaning of `Eratosthenes.ipynb` by moving all the plotting code required to a new module called `plots`. Update `__init__.py` to make the imports of this new module. By the end of the day, you should be able to generate the plots from the notebook using something like\n",
    "```python\n",
    "plot_sieve(.... , log_scale=True)\n",
    "```\n",
    "4. [Extra] You can continue and do something similar for the code in the section _Performance_."
   ]
  },
  {
   "cell_type": "markdown",
   "id": "f257d5b9-b09d-4062-9d87-529cf87aec04",
   "metadata": {},
   "source": [
    "## 2. Migrate to GitHub\n",
    "\n",
    "Let's now create a project containing the previous piece of code and let's version control it! \n",
    "\n",
    "1. Create a new public repository called `eratosthenes` where you will include all the contents for the Eratosthenes project you created before. You can create your repository first in local and then push it to GitHub or directly created in GitHub and then push your changes there. Also, you can create the repository in your personal GitHub account or also in the [UCB-stat-159-f25](https://github.com/UCB-stat-159-f25) GitHub site, in which case please we ask you to add your username/teamname in front of the repository name (eg, `jbbutler-eratosthenes`).\n",
    "1. Add a `README.md` file in the repository with a minimal explanation about the project. "
   ]
  },
  {
   "cell_type": "markdown",
   "id": "a1bc7644-edec-4596-b185-3bf2dc417797",
   "metadata": {},
   "source": [
    "## 3. Environments\n",
    "\n",
    "In this section we are going to create a conda environment for this project. A very useful resource for this section is this one on [managing environments](https://conda.io/projects/conda/en/latest/user-guide/tasks/manage-environments.html): The conda documentation about operations on environments is very complete. More will be covered about environments in the next lecture; we are primarily focused on practicing the mechanics of creating packages in advance of HW2.\n",
    "\n",
    "<img src=\"https://files.realpython.com/media/Python-Virtual-Environments_Watermarked.4c787192d42f.jpg\" alt=\"conda\" width=\"400\"/> \n",
    "\n",
    "_image taken from [Python Virtual Environments: A Primer](https://realpython.com/python-virtual-environments-a-primer/)_"
   ]
  },
  {
   "cell_type": "markdown",
   "id": "e3642386-aade-4c6f-abbf-b9eb234eb325",
   "metadata": {
    "tags": []
   },
   "source": [
    "### 3.1. Create environment for a project\n",
    "\n",
    "There are different ways how you can create a new conda environment. For reproducibility, the best practice is to share an `environment.yml` file that includes all the required packages and then create the environment from it. In order to start with this, we are going to start by creating a fresh environment that then we are going to export and share.\n",
    "\n",
    "1. First that all, create a new folder in your home directory called `envs`. You can do this from the terminal\n",
    "```bash\n",
    "mkdir envs\n",
    "```\n",
    "2. Now, go to the `.condarc` file (hidden) in your home directory and be sure that it includes a list of `envs_dirs` with the locations where you are going to install the conda environments. The `.condarc` file should include something like this\n",
    "```\n",
    "envs_dirs:\n",
    "  - ~/envs\n",
    "  - ~/shared/envs \n",
    "```\n",
    "3. In the terminal, let's create a new environment called `test_env` with a specific Python version. It may take a few seconds until it creates the new environment. \n",
    "```bash\n",
    "conda create -n <ENVIRONMENT NAME> python=3.9\n",
    "```\n",
    "\n",
    "4. In the terminal, do `conda env list` to see the list of all the environments you have installed. Activate the new environment with `conda activate <ENVIRONMENT NAME>`.\n",
    "\n",
    "5. At this point, you can run code from this environment just from the terminal. Our next step is to make this environment available from the notebook. In order for this to work, first you need to install the `ipykernel` package. You can do this with the following command\n",
    "```bash\n",
    "mamba install ipykernel\n",
    "```\n",
    "\n",
    "6. After doing this, you need to let Jupyter know that you want to use this environment’s kernel, by installing the environment’s ipykernel into Jupyter:\n",
    "```bash\n",
    "python -m ipykernel install --user --name <ENVIRONMENT NAME> --display-name \"IPython - <NAME>\"\n",
    "```\n",
    "\n",
    "After doing this, the environment should be visible from the notebook. Go to the upper right corner of your notebook and change the kernel. It may be necessary to restart your server in order to make this changes visible. \n",
    "\n",
    "```{note}\n",
    "What just happened? You have created a new virtual environment in your machine. Where is it? Go inside the `envs` folder and see what is there. This is where you conda environments live. If you delete this folder, the environment disappear.  \n",
    "```"
   ]
  },
  {
   "cell_type": "markdown",
   "id": "9f6e41da-d2a3-42c9-a9bb-1e25fd3cf41d",
   "metadata": {},
   "source": [
    "### 3.2. Growing and exporting\n",
    "\n",
    "1. Now that the environment is working and running from the notebook `Eratosthenes.ipynb`, do the required installations so the code runs. So far, nothing really has being installed in your environment. You will need to install basic packages like `numpy` and `matplotlib`. You can use `pip`, `conda` or `mamba` to install packages, but we recommend you to use `mamba` when possible.\n",
    "2. Once you environment has all the required dependencies, export them to a `environment.yml` file. The `conda env export` shows you the contents that should go to the configuration file. We recommend you to use the following syntax at the moment of exporting an environment. \n",
    "```bash\n",
    "conda env export --from-history > environment.yml\n",
    "```\n",
    "3. Now check what is inside `environment.yml`. Push this file to your repository."
   ]
  },
  {
   "cell_type": "markdown",
   "id": "e4bd3a2d-4269-4de7-b27e-74740bc52f16",
   "metadata": {},
   "source": [
    "These is the list of commands that you most likely will be using all time when working with conda environments:\n",
    "- `conda activate`\n",
    "- `conda env list`\n",
    "- `conda list`\n",
    "- `conda env export`"
   ]
  },
  {
   "cell_type": "markdown",
   "id": "40315c7d-33e0-49c3-a7b0-a5fbdba6da70",
   "metadata": {
    "tags": []
   },
   "source": [
    "### 3.3. Binder\n",
    "\n",
    "Now, we are going to launch the code into the cloud so everyone can run it! We are going to use [Binder](https://mybinder.readthedocs.io/en/latest/) for this. Doing this is surprisingly simple.\n",
    "\n",
    "<img src=\"https://miro.medium.com/max/471/1*cWQj_YdmY_p14eh628N_Kg.png\" alt=\"binder\" width=\"300\"/> \n",
    "\n",
    "1. Go to [mybinder.org](https://mybinder.org) and enter the information of the repository. Then just enter `Launch`! In order for this to work, be sure that\n",
    "    1. The environment file needs to be specified under the name `environment.yml`. Be sure your GitHub repository contains that file. \n",
    "    1. Be sure your repository is public. \n",
    "2. If everything is in order, this will launch the JupyterLab interface you are already using for this course. Check that the code runs here too and that all the required packages are installed in this new server. Now you can see how [Binder helps ensure reproducibility](https://mybinder.readthedocs.io/en/latest/tutorials/reproducibility.html).\n",
    "3. Binder allows you to create a badge and link that will launch the virtual machine every time you click on it. See how to do this and add this badge to the `README.md` file."
   ]
  }
 ],
 "metadata": {
  "kernelspec": {
   "display_name": "Python 3 (ipykernel)",
   "language": "python",
   "name": "python3"
  },
  "language_info": {
   "codemirror_mode": {
    "name": "ipython",
    "version": 3
   },
   "file_extension": ".py",
   "mimetype": "text/x-python",
   "name": "python",
   "nbconvert_exporter": "python",
   "pygments_lexer": "ipython3",
   "version": "3.12.0"
  }
 },
 "nbformat": 4,
 "nbformat_minor": 5
}
